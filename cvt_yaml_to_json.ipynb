{
 "cells": [
  {
   "cell_type": "code",
   "execution_count": 10,
   "metadata": {},
   "outputs": [],
   "source": [
    "import yaml\n",
    "import json\n",
    "import glob\n",
    "import os\n",
    "from tqdm import tqdm_notebook\n",
    "ymls = glob.glob(\"/disks/ssd/Datasets/Traffic_lights/DTLD_Labels/*yml\")\n",
    "ymls = sorted(ymls)"
   ]
  },
  {
   "cell_type": "code",
   "execution_count": 11,
   "metadata": {},
   "outputs": [
    {
     "data": {
      "application/vnd.jupyter.widget-view+json": {
       "model_id": "54e65f1dc2204d68856dc6dadb0d77f6",
       "version_major": 2,
       "version_minor": 0
      },
      "text/plain": [
       "HBox(children=(IntProgress(value=0, max=14), HTML(value='')))"
      ]
     },
     "metadata": {},
     "output_type": "display_data"
    }
   ],
   "source": [
    "for yml in tqdm_notebook(ymls):\n",
    "    with open(yml, 'r') as r_f:\n",
    "        with open (yml.replace('DTLD_Labels', 'DTLD_Labels/JSONS').split('.')[0] + '.json', 'w') as w_f:\n",
    "            json.dump(yaml.safe_load(r_f), w_f, indent=2)"
   ]
  }
 ],
 "metadata": {
  "kernelspec": {
   "display_name": "Python 3",
   "language": "python",
   "name": "python3"
  },
  "language_info": {
   "codemirror_mode": {
    "name": "ipython",
    "version": 3
   },
   "file_extension": ".py",
   "mimetype": "text/x-python",
   "name": "python",
   "nbconvert_exporter": "python",
   "pygments_lexer": "ipython3",
   "version": "3.7.3"
  }
 },
 "nbformat": 4,
 "nbformat_minor": 2
}
