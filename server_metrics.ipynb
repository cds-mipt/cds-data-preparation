{
 "cells": [
  {
   "cell_type": "code",
   "execution_count": 32,
   "metadata": {},
   "outputs": [],
   "source": [
    "# https://habr.com/ru/post/347564/.\n",
    "import os\n",
    "os.environ[\"CUDA_VISIBLE_DEVICES\"]=\"2\"\n",
    "\n",
    "import keras\n",
    "import sys\n",
    "import time\n",
    "#from google.colab import files # для импорта данных в google colab\n",
    "#from google.colab import drive # для импорта данных в google colab из google drive\n",
    "import zipfile # для работы с архивами \n",
    "from tqdm import tqdm_notebook as tqdm\n",
    "\n",
    "import numpy as np # linear algebra\n",
    "import pandas as pd # data processing, CSV file I/O (e.g. pd.read_csv)\n",
    "%matplotlib inline\n",
    "import matplotlib.pyplot as plt\n",
    "import pickle\n",
    "import csv\n",
    "from sklearn.metrics import confusion_matrix, classification_report\n",
    "import tensorflow as tf\n",
    "from PIL import Image\n",
    "import os\n",
    "import tensorflow as tf\n",
    "\n",
    "from keras.layers import Input\n",
    "from keras.applications import xception\n",
    "from keras.preprocessing import image\n",
    "\n",
    "from tensorflow.keras.preprocessing import image as im\n",
    "import time\n",
    "\n",
    "from keras.preprocessing.image import ImageDataGenerator\n",
    "from keras.applications import densenet\n",
    "from keras.models import Sequential, Model, load_model\n",
    "from keras.layers import Conv2D, MaxPooling2D\n",
    "from keras.layers import Activation, Dropout, Flatten, Dense\n",
    "from keras.callbacks import EarlyStopping, ReduceLROnPlateau, ModelCheckpoint, Callback\n",
    "from keras import regularizers\n",
    "from keras import backend as K\n",
    "from sklearn.preprocessing import OneHotEncoder\n",
    "from keras.utils import to_categorical\n",
    "from tensorflow.keras.models import load_model  \n",
    "\n"
   ]
  },
  {
   "cell_type": "code",
   "execution_count": 33,
   "metadata": {},
   "outputs": [],
   "source": [
    "class_names_lights   = ['1', '2', '3', '4', '5']\n",
    "class_names_signal   = ['0', '1', '2', '3', '4', '5']\n",
    "class_names_position = ['1', '2', '3', '4', '5']"
   ]
  },
  {
   "cell_type": "code",
   "execution_count": 34,
   "metadata": {},
   "outputs": [],
   "source": [
    "nb_validation_samples = 12630\n",
    "batch_size = 1\n",
    "n_classes_lights = 5\n",
    "n_classes_signal = 6\n",
    "n_classes_position = 5\n",
    "validation_data_dir_lights = \"/home/z_andrei/datasets/DTLD/val/lights\"\n",
    "validation_data_dir_signal = \"/home/z_andrei/datasets/DTLD/val/colours\"\n",
    "validation_data_dir_position = \"/home/z_andrei/datasets/DTLD/val/position\""
   ]
  },
  {
   "cell_type": "code",
   "execution_count": 35,
   "metadata": {},
   "outputs": [
    {
     "name": "stdout",
     "output_type": "stream",
     "text": [
      "Found 50107 images belonging to 5 classes.\n",
      "Found 50107 images belonging to 6 classes.\n",
      "Found 50107 images belonging to 5 classes.\n"
     ]
    }
   ],
   "source": [
    "img_width, img_height = 71, 71\n",
    "\n",
    "test_datagen = ImageDataGenerator(rescale = 1.0 / 255)\n",
    "validation_generator_lights = test_datagen.flow_from_directory(\n",
    "    validation_data_dir_lights,\n",
    "    target_size = (img_width, img_height),\n",
    "    batch_size = batch_size,\n",
    "    class_mode = 'categorical',\n",
    "    shuffle=False)\n",
    "\n",
    "validation_generator_signal = test_datagen.flow_from_directory(\n",
    "    validation_data_dir_signal,\n",
    "    target_size = (img_width, img_height),\n",
    "    batch_size = batch_size,\n",
    "    class_mode = 'categorical',\n",
    "    shuffle=False)\n",
    "\n",
    "validation_generator_position = test_datagen.flow_from_directory(\n",
    "    validation_data_dir_position,\n",
    "    target_size = (img_width, img_height),\n",
    "    batch_size = batch_size,\n",
    "    class_mode = 'categorical',\n",
    "    shuffle=False)\n",
    "\n",
    "validation_generators = [validation_generator_lights,\\\n",
    "                         validation_generator_signal,\\\n",
    "                         validation_generator_position]"
   ]
  },
  {
   "cell_type": "code",
   "execution_count": 36,
   "metadata": {},
   "outputs": [],
   "source": [
    "model_lights = load_model('weights-lights-improvement-71-11-0.98.hdf5')\n",
    "model_signal = load_model('weights-improvement-71-06-0.95.hdf5')\n",
    "model_position = load_model('weights-position-improvement-71-11-0.98.hdf5')"
   ]
  },
  {
   "cell_type": "code",
   "execution_count": 37,
   "metadata": {},
   "outputs": [
    {
     "name": "stderr",
     "output_type": "stream",
     "text": [
      "/home/z_andrei/anaconda3/envs/myenv/lib/python3.7/site-packages/ipykernel_launcher.py:3: TqdmDeprecationWarning: This function will be removed in tqdm==5.0.0\n",
      "Please use `tqdm.notebook.tqdm` instead of `tqdm.tqdm_notebook`\n",
      "  This is separate from the ipykernel package so we can avoid doing imports until\n"
     ]
    },
    {
     "data": {
      "application/vnd.jupyter.widget-view+json": {
       "model_id": "4c246ba169bb42d9a0ac72e419d64927",
       "version_major": 2,
       "version_minor": 0
      },
      "text/plain": [
       "HBox(children=(FloatProgress(value=0.0, max=3.0), HTML(value='')))"
      ]
     },
     "metadata": {},
     "output_type": "display_data"
    },
    {
     "name": "stdout",
     "output_type": "stream",
     "text": [
      "WARNING:tensorflow:sample_weight modes were coerced from\n",
      "  ...\n",
      "    to  \n",
      "  ['...']\n",
      "50107/50107 [==============================] - 757s 15ms/step - loss: 0.0566 - acc: 0.9827 - mse: 0.0053\n",
      "WARNING:tensorflow:sample_weight modes were coerced from\n",
      "  ...\n",
      "    to  \n",
      "  ['...']\n",
      "50107/50107 [==============================] - 753s 15ms/step - loss: 0.1286 - acc: 0.9633 - mse: 0.0094\n",
      "WARNING:tensorflow:sample_weight modes were coerced from\n",
      "  ...\n",
      "    to  \n",
      "  ['...']\n",
      "50107/50107 [==============================] - 562s 11ms/step - loss: 0.0768 - acc: 0.9755 - mse: 0.0074\n",
      "\n",
      "[[0.05659848 0.98273695 0.00531896]\n",
      " [0.12859004 0.96329856 0.00940012]\n",
      " [0.07681706 0.97545254 0.00743475]]\n"
     ]
    }
   ],
   "source": [
    "evaluation = np.zeros((3, 3))\n",
    "models = [model_lights, model_signal, model_position]\n",
    "for j in tqdm(range(3)):\n",
    "    evaluation[j] = models[j].evaluate_generator(validation_generators[j], verbose=1)\n",
    "print(evaluation)"
   ]
  },
  {
   "cell_type": "code",
   "execution_count": 38,
   "metadata": {},
   "outputs": [
    {
     "name": "stderr",
     "output_type": "stream",
     "text": [
      "/home/z_andrei/anaconda3/envs/myenv/lib/python3.7/site-packages/ipykernel_launcher.py:3: TqdmDeprecationWarning: This function will be removed in tqdm==5.0.0\n",
      "Please use `tqdm.notebook.tqdm` instead of `tqdm.tqdm_notebook`\n",
      "  This is separate from the ipykernel package so we can avoid doing imports until\n"
     ]
    },
    {
     "data": {
      "application/vnd.jupyter.widget-view+json": {
       "model_id": "2c5e830eb334460eb5e584c14a7595b4",
       "version_major": 2,
       "version_minor": 0
      },
      "text/plain": [
       "HBox(children=(FloatProgress(value=0.0, max=3.0), HTML(value='')))"
      ]
     },
     "metadata": {},
     "output_type": "display_data"
    },
    {
     "name": "stdout",
     "output_type": "stream",
     "text": [
      "50107/50107 [==============================] - 308s 6ms/step\n",
      "50107/50107 [==============================] - 308s 6ms/step\n",
      "50107/50107 [==============================] - 325s 6ms/step\n",
      "\n"
     ]
    },
    {
     "name": "stderr",
     "output_type": "stream",
     "text": [
      "/home/z_andrei/anaconda3/envs/myenv/lib/python3.7/site-packages/ipykernel_launcher.py:12: TqdmDeprecationWarning: This function will be removed in tqdm==5.0.0\n",
      "Please use `tqdm.notebook.tqdm` instead of `tqdm.tqdm_notebook`\n",
      "  if sys.path[0] == '':\n"
     ]
    },
    {
     "data": {
      "application/vnd.jupyter.widget-view+json": {
       "model_id": "dd64f7f8c70e43d391f0accde788bcd9",
       "version_major": 2,
       "version_minor": 0
      },
      "text/plain": [
       "HBox(children=(FloatProgress(value=0.0, max=3.0), HTML(value='')))"
      ]
     },
     "metadata": {},
     "output_type": "display_data"
    },
    {
     "name": "stdout",
     "output_type": "stream",
     "text": [
      "\n"
     ]
    }
   ],
   "source": [
    "predictions = list()\n",
    "fps_71 = list()\n",
    "for j in tqdm(range(3)):\n",
    "    tic = time.perf_counter()\n",
    "    predictions.append(models[j].predict_generator(validation_generators[j], verbose=1))\n",
    "    toc = time.perf_counter()\n",
    "    fps_71.append(len(predictions[j])/(toc - tic))\n",
    "for i in range(len(predictions)):\n",
    "    predictions[i] = np.array(predictions[i])\n",
    "    predictions[i] = np.argmax(predictions[i], axis=1)\n",
    "labels = list()\n",
    "for j in tqdm(range(3)):\n",
    "    labels.append(validation_generators[j].classes)"
   ]
  },
  {
   "cell_type": "code",
   "execution_count": 39,
   "metadata": {},
   "outputs": [
    {
     "name": "stdout",
     "output_type": "stream",
     "text": [
      "[[array([0.83534137, 0.88221154, 0.98775745, 0.91875   , 0.99069413]), array([0.93905192, 0.91612581, 0.98270921, 0.8891129 , 0.99035419])], [array([0.87343153, 0.93287505, 0.92139738, 0.91990847, 0.97335521,\n",
      "       0.97524715]), array([0.66184374, 0.95752629, 0.75831087, 0.84100418, 0.98552215,\n",
      "       0.99290861])], [array([0.98636219, 0.76656151, 0.73781513, 0.81961471, 0.97755433]), array([0.97913106, 0.5638051 , 0.76748252, 0.7301092 , 0.9896298 ])]]\n"
     ]
    }
   ],
   "source": [
    "metrics_71 = list()\n",
    "for i in range(3):\n",
    "    TP = np.zeros(np.unique(labels[i]).shape[0])\n",
    "    FP = np.zeros(np.unique(labels[i]).shape[0])\n",
    "    TN = np.zeros(np.unique(labels[i]).shape[0])\n",
    "    FN = np.zeros(np.unique(labels[i]).shape[0])\n",
    "    for label in range(np.unique(labels[i]).shape[0]):\n",
    "        for p, l in zip(predictions[i], labels[i]):\n",
    "            TP[label] += (label == l) & (label == p)\n",
    "            FP[label] += (label != l) & (label == p)\n",
    "            TN[label] += (label != l) & (label != p)\n",
    "            FN[label] += (label == l) & (label != p)\n",
    "    precision = TP/(TP+FP)\n",
    "    recall    = TP/(TP+FN)\n",
    "    metrics_71.append([precision, recall])\n",
    "print(metrics_71)"
   ]
  },
  {
   "cell_type": "markdown",
   "metadata": {},
   "source": [
    "## -----------------128-------------------"
   ]
  },
  {
   "cell_type": "code",
   "execution_count": 40,
   "metadata": {},
   "outputs": [
    {
     "name": "stdout",
     "output_type": "stream",
     "text": [
      "Found 50107 images belonging to 5 classes.\n",
      "Found 50107 images belonging to 6 classes.\n",
      "Found 50107 images belonging to 5 classes.\n"
     ]
    }
   ],
   "source": [
    "img_width, img_height = 128, 128\n",
    "\n",
    "test_datagen = ImageDataGenerator(rescale = 1.0 / 255)\n",
    "validation_generator_lights = test_datagen.flow_from_directory(\n",
    "    validation_data_dir_lights,\n",
    "    target_size = (img_width, img_height),\n",
    "    batch_size = batch_size,\n",
    "    class_mode = 'categorical',\n",
    "    shuffle=False)\n",
    "\n",
    "validation_generator_signal = test_datagen.flow_from_directory(\n",
    "    validation_data_dir_signal,\n",
    "    target_size = (img_width, img_height),\n",
    "    batch_size = batch_size,\n",
    "    class_mode = 'categorical',\n",
    "    shuffle=False)\n",
    "\n",
    "validation_generator_position = test_datagen.flow_from_directory(\n",
    "    validation_data_dir_position,\n",
    "    target_size = (img_width, img_height),\n",
    "    batch_size = batch_size,\n",
    "    class_mode = 'categorical',\n",
    "    shuffle=False)\n",
    "\n",
    "validation_generators = [validation_generator_lights,\\\n",
    "                         validation_generator_signal,\\\n",
    "                         validation_generator_position]"
   ]
  },
  {
   "cell_type": "code",
   "execution_count": 41,
   "metadata": {},
   "outputs": [],
   "source": [
    "model_lights = load_model('weights-lights-improvement-128-09-0.98.hdf5')\n",
    "model_signal = load_model('weights-improvement-128-08-0.96.hdf5')\n",
    "model_position = load_model('weights-position-improvement-128-09-0.98.hdf5')"
   ]
  },
  {
   "cell_type": "code",
   "execution_count": 42,
   "metadata": {},
   "outputs": [
    {
     "name": "stderr",
     "output_type": "stream",
     "text": [
      "/home/z_andrei/anaconda3/envs/myenv/lib/python3.7/site-packages/ipykernel_launcher.py:3: TqdmDeprecationWarning: This function will be removed in tqdm==5.0.0\n",
      "Please use `tqdm.notebook.tqdm` instead of `tqdm.tqdm_notebook`\n",
      "  This is separate from the ipykernel package so we can avoid doing imports until\n"
     ]
    },
    {
     "data": {
      "application/vnd.jupyter.widget-view+json": {
       "model_id": "50c8f2640a0147b68d0769a865d88698",
       "version_major": 2,
       "version_minor": 0
      },
      "text/plain": [
       "HBox(children=(FloatProgress(value=0.0, max=3.0), HTML(value='')))"
      ]
     },
     "metadata": {},
     "output_type": "display_data"
    },
    {
     "name": "stdout",
     "output_type": "stream",
     "text": [
      "WARNING:tensorflow:sample_weight modes were coerced from\n",
      "  ...\n",
      "    to  \n",
      "  ['...']\n",
      "50107/50107 [==============================] - 679s 14ms/step - loss: 0.0542 - acc: 0.9838 - mse: 0.0050\n",
      "WARNING:tensorflow:sample_weight modes were coerced from\n",
      "  ...\n",
      "    to  \n",
      "  ['...']\n",
      "50107/50107 [==============================] - 733s 15ms/step - loss: 0.1213 - acc: 0.9646 - mse: 0.0089\n",
      "WARNING:tensorflow:sample_weight modes were coerced from\n",
      "  ...\n",
      "    to  \n",
      "  ['...']\n",
      "50107/50107 [==============================] - 648s 13ms/step - loss: 0.0527 - acc: 0.9848 - mse: 0.0048\n",
      "\n",
      "[[0.05418581 0.98383456 0.00496866]\n",
      " [0.1213359  0.96459579 0.00893283]\n",
      " [0.05273383 0.98477256 0.00475897]]\n"
     ]
    }
   ],
   "source": [
    "evaluation = np.zeros((3, 3))\n",
    "models = [model_lights, model_signal, model_position]\n",
    "for j in tqdm(range(3)):\n",
    "    evaluation[j] = models[j].evaluate_generator(validation_generators[j], verbose=1)\n",
    "print(evaluation)"
   ]
  },
  {
   "cell_type": "code",
   "execution_count": 43,
   "metadata": {},
   "outputs": [
    {
     "name": "stderr",
     "output_type": "stream",
     "text": [
      "/home/z_andrei/anaconda3/envs/myenv/lib/python3.7/site-packages/ipykernel_launcher.py:3: TqdmDeprecationWarning: This function will be removed in tqdm==5.0.0\n",
      "Please use `tqdm.notebook.tqdm` instead of `tqdm.tqdm_notebook`\n",
      "  This is separate from the ipykernel package so we can avoid doing imports until\n"
     ]
    },
    {
     "data": {
      "application/vnd.jupyter.widget-view+json": {
       "model_id": "2992e62a320644de9a5250ad17791193",
       "version_major": 2,
       "version_minor": 0
      },
      "text/plain": [
       "HBox(children=(FloatProgress(value=0.0, max=3.0), HTML(value='')))"
      ]
     },
     "metadata": {},
     "output_type": "display_data"
    },
    {
     "name": "stdout",
     "output_type": "stream",
     "text": [
      "50107/50107 [==============================] - 370s 7ms/step\n",
      "50107/50107 [==============================] - 551s 11ms/step\n",
      "50107/50107 [==============================] - 463s 9ms/step\n",
      "\n"
     ]
    },
    {
     "name": "stderr",
     "output_type": "stream",
     "text": [
      "/home/z_andrei/anaconda3/envs/myenv/lib/python3.7/site-packages/ipykernel_launcher.py:12: TqdmDeprecationWarning: This function will be removed in tqdm==5.0.0\n",
      "Please use `tqdm.notebook.tqdm` instead of `tqdm.tqdm_notebook`\n",
      "  if sys.path[0] == '':\n"
     ]
    },
    {
     "data": {
      "application/vnd.jupyter.widget-view+json": {
       "model_id": "519f3f60220a48ff9d6a7b00a7444a20",
       "version_major": 2,
       "version_minor": 0
      },
      "text/plain": [
       "HBox(children=(FloatProgress(value=0.0, max=3.0), HTML(value='')))"
      ]
     },
     "metadata": {},
     "output_type": "display_data"
    },
    {
     "name": "stdout",
     "output_type": "stream",
     "text": [
      "\n"
     ]
    }
   ],
   "source": [
    "predictions = list()\n",
    "fps_128 = list()\n",
    "for j in tqdm(range(3)):\n",
    "    tic = time.perf_counter()\n",
    "    predictions.append(models[j].predict_generator(validation_generators[j], verbose=1))\n",
    "    toc = time.perf_counter()\n",
    "    fps_128.append(len(predictions[j])/(toc - tic))\n",
    "for i in range(len(predictions)):\n",
    "    predictions[i] = np.array(predictions[i])\n",
    "    predictions[i] = np.argmax(predictions[i], axis=1)\n",
    "labels = list()\n",
    "for j in tqdm(range(3)):\n",
    "    labels.append(validation_generators[j].classes)"
   ]
  },
  {
   "cell_type": "code",
   "execution_count": 44,
   "metadata": {},
   "outputs": [
    {
     "name": "stdout",
     "output_type": "stream",
     "text": [
      "[[array([0.82680412, 0.90904523, 0.9870248 , 0.85278276, 0.99266868]), array([0.90519187, 0.90314528, 0.98466756, 0.95766129, 0.99115483])], [array([0.78147448, 0.96869615, 0.9458897 , 0.9032967 , 0.94365246,\n",
      "       0.99491341]), array([0.85448532, 0.93331489, 0.81671159, 0.85983264, 0.99501582,\n",
      "       0.9768958 ])], [array([0.99102052, 0.57956449, 0.85798817, 0.94715447, 0.99184389]), array([0.99275884, 0.80278422, 0.76048951, 0.72698908, 0.99218422])]]\n"
     ]
    }
   ],
   "source": [
    "metrics_128 = list()\n",
    "for i in range(3):\n",
    "    TP = np.zeros(np.unique(labels[i]).shape[0])\n",
    "    FP = np.zeros(np.unique(labels[i]).shape[0])\n",
    "    TN = np.zeros(np.unique(labels[i]).shape[0])\n",
    "    FN = np.zeros(np.unique(labels[i]).shape[0])\n",
    "    for label in range(np.unique(labels[i]).shape[0]):\n",
    "        for p, l in zip(predictions[i], labels[i]):\n",
    "            TP[label] += (label == l) & (label == p)\n",
    "            FP[label] += (label != l) & (label == p)\n",
    "            TN[label] += (label != l) & (label != p)\n",
    "            FN[label] += (label == l) & (label != p)\n",
    "    precision = TP/(TP+FP)\n",
    "    recall    = TP/(TP+FN)\n",
    "    metrics_128.append([precision, recall])\n",
    "print(metrics_128)"
   ]
  },
  {
   "cell_type": "markdown",
   "metadata": {},
   "source": [
    "## -----------------200-------------------"
   ]
  },
  {
   "cell_type": "code",
   "execution_count": 45,
   "metadata": {},
   "outputs": [
    {
     "name": "stdout",
     "output_type": "stream",
     "text": [
      "Found 50107 images belonging to 5 classes.\n",
      "Found 50107 images belonging to 6 classes.\n",
      "Found 50107 images belonging to 5 classes.\n"
     ]
    }
   ],
   "source": [
    "img_width, img_height = 200, 200\n",
    "\n",
    "test_datagen = ImageDataGenerator(rescale = 1.0 / 255)\n",
    "validation_generator_lights = test_datagen.flow_from_directory(\n",
    "    validation_data_dir_lights,\n",
    "    target_size = (img_width, img_height),\n",
    "    batch_size = batch_size,\n",
    "    class_mode = 'categorical',\n",
    "    shuffle=False)\n",
    "\n",
    "validation_generator_signal = test_datagen.flow_from_directory(\n",
    "    validation_data_dir_signal,\n",
    "    target_size = (img_width, img_height),\n",
    "    batch_size = batch_size,\n",
    "    class_mode = 'categorical',\n",
    "    shuffle=False)\n",
    "\n",
    "validation_generator_position = test_datagen.flow_from_directory(\n",
    "    validation_data_dir_position,\n",
    "    target_size = (img_width, img_height),\n",
    "    batch_size = batch_size,\n",
    "    class_mode = 'categorical',\n",
    "    shuffle=False)\n",
    "\n",
    "validation_generators = [validation_generator_lights,\\\n",
    "                         validation_generator_signal,\\\n",
    "                         validation_generator_position]"
   ]
  },
  {
   "cell_type": "code",
   "execution_count": 46,
   "metadata": {},
   "outputs": [],
   "source": [
    "model_lights = load_model('weights-lights-improvement-12-0.98.hdf5')\n",
    "model_signal = load_model('weights-improvement-12-0.97.hdf5')\n",
    "model_position = load_model('weights-position-improvement-12-0.98.hdf5')"
   ]
  },
  {
   "cell_type": "code",
   "execution_count": 47,
   "metadata": {},
   "outputs": [
    {
     "name": "stderr",
     "output_type": "stream",
     "text": [
      "/home/z_andrei/anaconda3/envs/myenv/lib/python3.7/site-packages/ipykernel_launcher.py:3: TqdmDeprecationWarning: This function will be removed in tqdm==5.0.0\n",
      "Please use `tqdm.notebook.tqdm` instead of `tqdm.tqdm_notebook`\n",
      "  This is separate from the ipykernel package so we can avoid doing imports until\n"
     ]
    },
    {
     "data": {
      "application/vnd.jupyter.widget-view+json": {
       "model_id": "cb62508c0f6d465f94137e61a6abe4aa",
       "version_major": 2,
       "version_minor": 0
      },
      "text/plain": [
       "HBox(children=(FloatProgress(value=0.0, max=3.0), HTML(value='')))"
      ]
     },
     "metadata": {},
     "output_type": "display_data"
    },
    {
     "name": "stdout",
     "output_type": "stream",
     "text": [
      "WARNING:tensorflow:sample_weight modes were coerced from\n",
      "  ...\n",
      "    to  \n",
      "  ['...']\n",
      "50107/50107 [==============================] - 744s 15ms/step - loss: 0.0761 - acc: 0.9755 - mse: 0.0074\n",
      "WARNING:tensorflow:sample_weight modes were coerced from\n",
      "  ...\n",
      "    to  \n",
      "  ['...']\n",
      "50107/50107 [==============================] - 931s 19ms/step - loss: 0.0713 - acc: 0.9812 - mse: 0.0050\n",
      "WARNING:tensorflow:sample_weight modes were coerced from\n",
      "  ...\n",
      "    to  \n",
      "  ['...']\n",
      "50107/50107 [==============================] - 747s 15ms/step - loss: 0.0454 - acc: 0.9866 - mse: 0.0041\n",
      "\n",
      "[[0.07606523 0.97547251 0.00737488]\n",
      " [0.07133942 0.98118025 0.0049918 ]\n",
      " [0.04540233 0.98656875 0.00411868]]\n"
     ]
    }
   ],
   "source": [
    "evaluation = np.zeros((3, 3))\n",
    "models = [model_lights, model_signal, model_position]\n",
    "for j in tqdm(range(3)):\n",
    "    evaluation[j] = models[j].evaluate_generator(validation_generators[j], verbose=1)\n",
    "print(evaluation)"
   ]
  },
  {
   "cell_type": "code",
   "execution_count": 48,
   "metadata": {},
   "outputs": [
    {
     "name": "stderr",
     "output_type": "stream",
     "text": [
      "/home/z_andrei/anaconda3/envs/myenv/lib/python3.7/site-packages/ipykernel_launcher.py:3: TqdmDeprecationWarning: This function will be removed in tqdm==5.0.0\n",
      "Please use `tqdm.notebook.tqdm` instead of `tqdm.tqdm_notebook`\n",
      "  This is separate from the ipykernel package so we can avoid doing imports until\n"
     ]
    },
    {
     "data": {
      "application/vnd.jupyter.widget-view+json": {
       "model_id": "767533a54e434196a62af25914617d74",
       "version_major": 2,
       "version_minor": 0
      },
      "text/plain": [
       "HBox(children=(FloatProgress(value=0.0, max=3.0), HTML(value='')))"
      ]
     },
     "metadata": {},
     "output_type": "display_data"
    },
    {
     "name": "stdout",
     "output_type": "stream",
     "text": [
      "50107/50107 [==============================] - 649s 13ms/step\n",
      "50107/50107 [==============================] - 438s 9ms/step\n",
      "50107/50107 [==============================] - 601s 12ms/step\n",
      "\n"
     ]
    },
    {
     "name": "stderr",
     "output_type": "stream",
     "text": [
      "/home/z_andrei/anaconda3/envs/myenv/lib/python3.7/site-packages/ipykernel_launcher.py:12: TqdmDeprecationWarning: This function will be removed in tqdm==5.0.0\n",
      "Please use `tqdm.notebook.tqdm` instead of `tqdm.tqdm_notebook`\n",
      "  if sys.path[0] == '':\n"
     ]
    },
    {
     "data": {
      "application/vnd.jupyter.widget-view+json": {
       "model_id": "c24e53c657e248f3ac7f86d9a2c94018",
       "version_major": 2,
       "version_minor": 0
      },
      "text/plain": [
       "HBox(children=(FloatProgress(value=0.0, max=3.0), HTML(value='')))"
      ]
     },
     "metadata": {},
     "output_type": "display_data"
    },
    {
     "name": "stdout",
     "output_type": "stream",
     "text": [
      "\n"
     ]
    }
   ],
   "source": [
    "predictions = list()\n",
    "fps_200 = list()\n",
    "for j in tqdm(range(3)):\n",
    "    tic = time.perf_counter()\n",
    "    predictions.append(models[j].predict_generator(validation_generators[j], verbose=1))\n",
    "    toc = time.perf_counter()\n",
    "    fps_200.append(len(predictions[j])/(toc - tic))\n",
    "for i in range(len(predictions)):\n",
    "    predictions[i] = np.array(predictions[i])\n",
    "    predictions[i] = np.argmax(predictions[i], axis=1)\n",
    "labels = list()\n",
    "for j in tqdm(range(3)):\n",
    "    labels.append(validation_generators[j].classes)"
   ]
  },
  {
   "cell_type": "code",
   "execution_count": 49,
   "metadata": {},
   "outputs": [
    {
     "name": "stdout",
     "output_type": "stream",
     "text": [
      "[22074.   328.   515.   554. 25963.] [217. 103. 193.  56. 104.] [160. 103.  57.  87. 266.] [27656. 49573. 49342. 49410. 23774.] [22234.   431.   572.   641. 26229.]\n",
      "[[array([0.99026513, 0.76102088, 0.72740113, 0.90819672, 0.99601028]), array([0.99280381, 0.76102088, 0.90034965, 0.86427457, 0.98985855])]]\n"
     ]
    }
   ],
   "source": [
    "metrics_200 = list()\n",
    "for i in range(3):\n",
    "    TP = np.zeros(np.unique(labels[i]).shape[0])\n",
    "    FP = np.zeros(np.unique(labels[i]).shape[0])\n",
    "    TN = np.zeros(np.unique(labels[i]).shape[0])\n",
    "    FN = np.zeros(np.unique(labels[i]).shape[0])\n",
    "    for label in range(np.unique(labels[i]).shape[0]):\n",
    "        for p, l in zip(predictions[i], labels[i]):\n",
    "            TP[label] += (label == l) & (label == p)\n",
    "            FP[label] += (label != l) & (label == p)\n",
    "            TN[label] += (label != l) & (label != p)\n",
    "            FN[label] += (label == l) & (label != p)\n",
    "    precision = TP/(TP+FP)\n",
    "    recall    = TP/(TP+FN)\n",
    "    metrics_200.append([precision, recall])\n",
    "print(metrics_200)"
   ]
  },
  {
   "cell_type": "code",
   "execution_count": 50,
   "metadata": {},
   "outputs": [
    {
     "name": "stdout",
     "output_type": "stream",
     "text": [
      "[162.583433362638, 162.55573402503316, 154.25195591471044] [135.498097935847, 90.91535739182729, 108.23930500146126] [77.1401153895377, 114.27808354486719, 83.35116122189298]\n"
     ]
    }
   ],
   "source": [
    "print(fps_71, fps_128, fps_200)"
   ]
  },
  {
   "cell_type": "code",
   "execution_count": null,
   "metadata": {},
   "outputs": [],
   "source": []
  },
  {
   "cell_type": "code",
   "execution_count": null,
   "metadata": {},
   "outputs": [],
   "source": []
  },
  {
   "cell_type": "code",
   "execution_count": null,
   "metadata": {},
   "outputs": [],
   "source": []
  },
  {
   "cell_type": "code",
   "execution_count": null,
   "metadata": {},
   "outputs": [],
   "source": []
  },
  {
   "cell_type": "code",
   "execution_count": null,
   "metadata": {},
   "outputs": [],
   "source": []
  },
  {
   "cell_type": "code",
   "execution_count": null,
   "metadata": {},
   "outputs": [],
   "source": []
  },
  {
   "cell_type": "code",
   "execution_count": null,
   "metadata": {},
   "outputs": [],
   "source": []
  },
  {
   "cell_type": "code",
   "execution_count": null,
   "metadata": {},
   "outputs": [],
   "source": []
  },
  {
   "cell_type": "code",
   "execution_count": null,
   "metadata": {},
   "outputs": [],
   "source": []
  }
 ],
 "metadata": {
  "kernelspec": {
   "display_name": "Python [conda env:myenv]",
   "language": "python",
   "name": "conda-env-myenv-py"
  },
  "language_info": {
   "codemirror_mode": {
    "name": "ipython",
    "version": 3
   },
   "file_extension": ".py",
   "mimetype": "text/x-python",
   "name": "python",
   "nbconvert_exporter": "python",
   "pygments_lexer": "ipython3",
   "version": "3.7.6"
  }
 },
 "nbformat": 4,
 "nbformat_minor": 2
}
