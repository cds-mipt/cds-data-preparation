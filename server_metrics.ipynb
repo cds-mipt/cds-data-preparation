{
 "cells": [
  {
   "cell_type": "code",
   "execution_count": 1,
   "metadata": {},
   "outputs": [
    {
     "name": "stderr",
     "output_type": "stream",
     "text": [
      "Using TensorFlow backend.\n"
     ]
    }
   ],
   "source": [
    "# https://habr.com/ru/post/347564/.\n",
    "import os\n",
    "os.environ[\"CUDA_VISIBLE_DEVICES\"]=\"2\"\n",
    "\n",
    "import keras\n",
    "import sys\n",
    "import time\n",
    "#from google.colab import files # для импорта данных в google colab\n",
    "#from google.colab import drive # для импорта данных в google colab из google drive\n",
    "import zipfile # для работы с архивами \n",
    "from tqdm import tqdm_notebook as tqdm\n",
    "\n",
    "import numpy as np # linear algebra\n",
    "import pandas as pd # data processing, CSV file I/O (e.g. pd.read_csv)\n",
    "%matplotlib inline\n",
    "import matplotlib.pyplot as plt\n",
    "import pickle\n",
    "import csv\n",
    "from sklearn.metrics import confusion_matrix, classification_report\n",
    "import tensorflow as tf\n",
    "from PIL import Image\n",
    "import os\n",
    "import tensorflow as tf\n",
    "\n",
    "from keras.layers import Input\n",
    "from keras.applications import xception\n",
    "from keras.preprocessing import image\n",
    "\n",
    "from tensorflow.keras.preprocessing import image as im\n",
    "import time\n",
    "\n",
    "from keras.preprocessing.image import ImageDataGenerator\n",
    "from keras.applications import densenet\n",
    "from keras.models import Sequential, Model, load_model\n",
    "from keras.layers import Conv2D, MaxPooling2D\n",
    "from keras.layers import Activation, Dropout, Flatten, Dense\n",
    "from keras.callbacks import EarlyStopping, ReduceLROnPlateau, ModelCheckpoint, Callback\n",
    "from keras import regularizers\n",
    "from keras import backend as K\n",
    "from sklearn.preprocessing import OneHotEncoder\n",
    "from keras.utils import to_categorical\n",
    "from tensorflow.keras.models import load_model  \n",
    "\n"
   ]
  },
  {
   "cell_type": "code",
   "execution_count": 2,
   "metadata": {},
   "outputs": [],
   "source": [
    "class_names_lights   = ['1', '2', '3', '4', '5']\n",
    "class_names_signal   = ['0', '1', '2', '3', '4', '5']\n",
    "class_names_position = ['1', '2', '3', '4', '5']"
   ]
  },
  {
   "cell_type": "code",
   "execution_count": 3,
   "metadata": {},
   "outputs": [],
   "source": [
    "nb_validation_samples = 12630\n",
    "batch_size = 1\n",
    "n_classes_lights = 5\n",
    "n_classes_signal = 6\n",
    "n_classes_position = 5"
   ]
  },
  {
   "cell_type": "code",
   "execution_count": 4,
   "metadata": {},
   "outputs": [
    {
     "name": "stdout",
     "output_type": "stream",
     "text": [
      "Found 8165 images belonging to 5 classes.\n",
      "Found 9111 images belonging to 6 classes.\n",
      "Found 9799 images belonging to 5 classes.\n"
     ]
    }
   ],
   "source": [
    "img_width, img_height = 71, 71\n",
    "validation_data_dir_lights = \"/datasets/DTLD/DTLD_crop/new_test/lights\"\n",
    "validation_data_dir_signal = \"/datasets/DTLD/DTLD_crop/new_test/colours\"\n",
    "validation_data_dir_position = \"/datasets/DTLD/DTLD_crop/new_test/position\"\n",
    "\n",
    "test_datagen = ImageDataGenerator(rescale = 1.0 / 255)\n",
    "validation_generator_lights = test_datagen.flow_from_directory(\n",
    "    validation_data_dir_lights,\n",
    "    target_size = (img_width, img_height),\n",
    "    batch_size = batch_size,\n",
    "    class_mode = 'categorical',\n",
    "    shuffle=False)\n",
    "\n",
    "validation_generator_signal = test_datagen.flow_from_directory(\n",
    "    validation_data_dir_signal,\n",
    "    target_size = (img_width, img_height),\n",
    "    batch_size = batch_size,\n",
    "    class_mode = 'categorical',\n",
    "    shuffle=False)\n",
    "\n",
    "validation_generator_position = test_datagen.flow_from_directory(\n",
    "    validation_data_dir_position,\n",
    "    target_size = (img_width, img_height),\n",
    "    batch_size = batch_size,\n",
    "    class_mode = 'categorical',\n",
    "    shuffle=False)\n",
    "\n",
    "validation_generators = [validation_generator_lights,\\\n",
    "                         validation_generator_signal,\\\n",
    "                         validation_generator_position]"
   ]
  },
  {
   "cell_type": "code",
   "execution_count": 5,
   "metadata": {},
   "outputs": [],
   "source": [
    "model_lights = load_model('weights-lights-improvement-71-11-0.98.hdf5')\n",
    "model_signal = load_model('weights-improvement-71-06-0.95.hdf5')\n",
    "model_position = load_model('weights-position-improvement-71-11-0.98.hdf5')"
   ]
  },
  {
   "cell_type": "code",
   "execution_count": 6,
   "metadata": {},
   "outputs": [
    {
     "name": "stderr",
     "output_type": "stream",
     "text": [
      "/home/z_andrei/anaconda3/envs/myenv/lib/python3.7/site-packages/ipykernel_launcher.py:3: TqdmDeprecationWarning: This function will be removed in tqdm==5.0.0\n",
      "Please use `tqdm.notebook.tqdm` instead of `tqdm.tqdm_notebook`\n",
      "  This is separate from the ipykernel package so we can avoid doing imports until\n"
     ]
    },
    {
     "data": {
      "application/vnd.jupyter.widget-view+json": {
       "model_id": "95e9ec7ca2f44cedbe150c0ed6be270c",
       "version_major": 2,
       "version_minor": 0
      },
      "text/plain": [
       "HBox(children=(FloatProgress(value=0.0, max=3.0), HTML(value='')))"
      ]
     },
     "metadata": {},
     "output_type": "display_data"
    },
    {
     "name": "stdout",
     "output_type": "stream",
     "text": [
      "WARNING:tensorflow:From <ipython-input-6-74bb592a6507>:4: Model.evaluate_generator (from tensorflow.python.keras.engine.training) is deprecated and will be removed in a future version.\n",
      "Instructions for updating:\n",
      "Please use Model.evaluate, which supports generators.\n",
      "WARNING:tensorflow:sample_weight modes were coerced from\n",
      "  ...\n",
      "    to  \n",
      "  ['...']\n",
      "8165/8165 [==============================] - 81s 10ms/step - loss: 0.0711 - acc: 0.9803 - mse: 0.0063\n",
      "WARNING:tensorflow:sample_weight modes were coerced from\n",
      "  ...\n",
      "    to  \n",
      "  ['...']\n",
      "9111/9111 [==============================] - 88s 10ms/step - loss: 0.1805 - acc: 0.9472 - mse: 0.0131\n",
      "WARNING:tensorflow:sample_weight modes were coerced from\n",
      "  ...\n",
      "    to  \n",
      "  ['...']\n",
      "9799/9799 [==============================] - 95s 10ms/step - loss: 0.0940 - acc: 0.9696 - mse: 0.0090\n",
      "\n",
      "[[0.07113367 0.98028171 0.00625947]\n",
      " [0.18050264 0.94720668 0.0130653 ]\n",
      " [0.09396176 0.96958876 0.00898377]]\n"
     ]
    }
   ],
   "source": [
    "evaluation = np.zeros((3, 3))\n",
    "models = [model_lights, model_signal, model_position]\n",
    "for j in tqdm(range(3)):\n",
    "    evaluation[j] = models[j].evaluate_generator(validation_generators[j], verbose=1)\n",
    "print(evaluation)"
   ]
  },
  {
   "cell_type": "code",
   "execution_count": 7,
   "metadata": {},
   "outputs": [
    {
     "name": "stderr",
     "output_type": "stream",
     "text": [
      "/home/z_andrei/anaconda3/envs/myenv/lib/python3.7/site-packages/ipykernel_launcher.py:3: TqdmDeprecationWarning: This function will be removed in tqdm==5.0.0\n",
      "Please use `tqdm.notebook.tqdm` instead of `tqdm.tqdm_notebook`\n",
      "  This is separate from the ipykernel package so we can avoid doing imports until\n"
     ]
    },
    {
     "data": {
      "application/vnd.jupyter.widget-view+json": {
       "model_id": "8282d6d4406e49fe8e63a6550cdd90b7",
       "version_major": 2,
       "version_minor": 0
      },
      "text/plain": [
       "HBox(children=(FloatProgress(value=0.0, max=3.0), HTML(value='')))"
      ]
     },
     "metadata": {},
     "output_type": "display_data"
    },
    {
     "name": "stdout",
     "output_type": "stream",
     "text": [
      "WARNING:tensorflow:From <ipython-input-7-cae028929ee5>:5: Model.predict_generator (from tensorflow.python.keras.engine.training) is deprecated and will be removed in a future version.\n",
      "Instructions for updating:\n",
      "Please use Model.predict, which supports generators.\n",
      "8165/8165 [==============================] - 53s 7ms/step\n",
      "9111/9111 [==============================] - 60s 7ms/step\n",
      "9799/9799 [==============================] - 65s 7ms/step\n",
      "\n"
     ]
    },
    {
     "name": "stderr",
     "output_type": "stream",
     "text": [
      "/home/z_andrei/anaconda3/envs/myenv/lib/python3.7/site-packages/ipykernel_launcher.py:12: TqdmDeprecationWarning: This function will be removed in tqdm==5.0.0\n",
      "Please use `tqdm.notebook.tqdm` instead of `tqdm.tqdm_notebook`\n",
      "  if sys.path[0] == '':\n"
     ]
    },
    {
     "data": {
      "application/vnd.jupyter.widget-view+json": {
       "model_id": "fae160908ce145ccaef3cef8835c752b",
       "version_major": 2,
       "version_minor": 0
      },
      "text/plain": [
       "HBox(children=(FloatProgress(value=0.0, max=3.0), HTML(value='')))"
      ]
     },
     "metadata": {},
     "output_type": "display_data"
    },
    {
     "name": "stdout",
     "output_type": "stream",
     "text": [
      "\n"
     ]
    }
   ],
   "source": [
    "predictions = list()\n",
    "fps_71 = list()\n",
    "for j in tqdm(range(3)):\n",
    "    tic = time.perf_counter()\n",
    "    predictions.append(models[j].predict_generator(validation_generators[j], verbose=1))\n",
    "    toc = time.perf_counter()\n",
    "    fps_71.append(len(predictions[j])/(toc - tic))\n",
    "for i in range(len(predictions)):\n",
    "    predictions[i] = np.array(predictions[i])\n",
    "    predictions[i] = np.argmax(predictions[i], axis=1)\n",
    "labels = list()\n",
    "for j in tqdm(range(3)):\n",
    "    labels.append(validation_generators[j].classes)"
   ]
  },
  {
   "cell_type": "code",
   "execution_count": 8,
   "metadata": {},
   "outputs": [
    {
     "name": "stdout",
     "output_type": "stream",
     "text": [
      "[[array([0.88636364, 0.84210526, 0.98747277, 0.89795918, 0.9873008 ]), array([0.9140625 , 0.87763713, 0.98106061, 0.84615385, 0.99125   ])], [array([0.53741497, 0.90970934, 0.87055016, 0.88333333, 0.97652418,\n",
      "       0.9629001 ]), array([0.32377049, 0.93160228, 0.73097826, 0.70666667, 0.97961336,\n",
      "       0.99275   ])], [array([0.98834653, 0.375     , 0.59090909, 0.16666667, 0.96530891]), array([0.9668746 , 0.19565217, 0.55714286, 0.14705882, 0.9906    ])]]\n"
     ]
    }
   ],
   "source": [
    "metrics_71 = list()\n",
    "for i in range(3):\n",
    "    TP = np.zeros(np.unique(labels[i]).shape[0])\n",
    "    FP = np.zeros(np.unique(labels[i]).shape[0])\n",
    "    TN = np.zeros(np.unique(labels[i]).shape[0])\n",
    "    FN = np.zeros(np.unique(labels[i]).shape[0])\n",
    "    for label in range(np.unique(labels[i]).shape[0]):\n",
    "        for p, l in zip(predictions[i], labels[i]):\n",
    "            TP[label] += (label == l) & (label == p)\n",
    "            FP[label] += (label != l) & (label == p)\n",
    "            TN[label] += (label != l) & (label != p)\n",
    "            FN[label] += (label == l) & (label != p)\n",
    "    precision = TP/(TP+FP)\n",
    "    recall    = TP/(TP+FN)\n",
    "    metrics_71.append([precision, recall])\n",
    "print(metrics_71)"
   ]
  },
  {
   "cell_type": "markdown",
   "metadata": {},
   "source": [
    "## -----------------128-------------------"
   ]
  },
  {
   "cell_type": "code",
   "execution_count": 9,
   "metadata": {},
   "outputs": [
    {
     "name": "stdout",
     "output_type": "stream",
     "text": [
      "Found 8165 images belonging to 5 classes.\n",
      "Found 9111 images belonging to 6 classes.\n",
      "Found 9799 images belonging to 5 classes.\n"
     ]
    }
   ],
   "source": [
    "img_width, img_height = 128, 128\n",
    "validation_data_dir_lights = \"/datasets/DTLD/DTLD_crop/new_test/lights\"\n",
    "validation_data_dir_signal = \"/datasets/DTLD/DTLD_crop/new_test/colours\"\n",
    "validation_data_dir_position = \"/datasets/DTLD/DTLD_crop/new_test/position\"\n",
    "\n",
    "test_datagen = ImageDataGenerator(rescale = 1.0 / 255)\n",
    "validation_generator_lights = test_datagen.flow_from_directory(\n",
    "    validation_data_dir_lights,\n",
    "    target_size = (img_width, img_height),\n",
    "    batch_size = batch_size,\n",
    "    class_mode = 'categorical',\n",
    "    shuffle=False)\n",
    "\n",
    "validation_generator_signal = test_datagen.flow_from_directory(\n",
    "    validation_data_dir_signal,\n",
    "    target_size = (img_width, img_height),\n",
    "    batch_size = batch_size,\n",
    "    class_mode = 'categorical',\n",
    "    shuffle=False)\n",
    "\n",
    "validation_generator_position = test_datagen.flow_from_directory(\n",
    "    validation_data_dir_position,\n",
    "    target_size = (img_width, img_height),\n",
    "    batch_size = batch_size,\n",
    "    class_mode = 'categorical',\n",
    "    shuffle=False)\n",
    "\n",
    "validation_generators = [validation_generator_lights,\\\n",
    "                         validation_generator_signal,\\\n",
    "                         validation_generator_position]"
   ]
  },
  {
   "cell_type": "code",
   "execution_count": 10,
   "metadata": {},
   "outputs": [],
   "source": [
    "model_lights = load_model('weights-lights-improvement-128-09-0.98.hdf5')\n",
    "model_signal = load_model('weights-improvement-128-08-0.96.hdf5')\n",
    "model_position = load_model('weights-position-improvement-128-09-0.98.hdf5')"
   ]
  },
  {
   "cell_type": "code",
   "execution_count": 11,
   "metadata": {},
   "outputs": [
    {
     "name": "stderr",
     "output_type": "stream",
     "text": [
      "/home/z_andrei/anaconda3/envs/myenv/lib/python3.7/site-packages/ipykernel_launcher.py:3: TqdmDeprecationWarning: This function will be removed in tqdm==5.0.0\n",
      "Please use `tqdm.notebook.tqdm` instead of `tqdm.tqdm_notebook`\n",
      "  This is separate from the ipykernel package so we can avoid doing imports until\n"
     ]
    },
    {
     "data": {
      "application/vnd.jupyter.widget-view+json": {
       "model_id": "8557831d9f414b6d99c0f08c34975f3a",
       "version_major": 2,
       "version_minor": 0
      },
      "text/plain": [
       "HBox(children=(FloatProgress(value=0.0, max=3.0), HTML(value='')))"
      ]
     },
     "metadata": {},
     "output_type": "display_data"
    },
    {
     "name": "stdout",
     "output_type": "stream",
     "text": [
      "WARNING:tensorflow:sample_weight modes were coerced from\n",
      "  ...\n",
      "    to  \n",
      "  ['...']\n",
      "8165/8165 [==============================] - 79s 10ms/step - loss: 0.0759 - acc: 0.9786 - mse: 0.0063\n",
      "WARNING:tensorflow:sample_weight modes were coerced from\n",
      "  ...\n",
      "    to  \n",
      "  ['...']\n",
      "9111/9111 [==============================] - 88s 10ms/step - loss: 0.1606 - acc: 0.9552 - mse: 0.0114\n",
      "WARNING:tensorflow:sample_weight modes were coerced from\n",
      "  ...\n",
      "    to  \n",
      "  ['...']\n",
      "9799/9799 [==============================] - 95s 10ms/step - loss: 0.0614 - acc: 0.9799 - mse: 0.0058\n",
      "\n",
      "[[0.07586322 0.97856706 0.00633581]\n",
      " [0.16064601 0.95521897 0.01142438]\n",
      " [0.06140004 0.97989589 0.00583029]]\n"
     ]
    }
   ],
   "source": [
    "evaluation = np.zeros((3, 3))\n",
    "models = [model_lights, model_signal, model_position]\n",
    "for j in tqdm(range(3)):\n",
    "    evaluation[j] = models[j].evaluate_generator(validation_generators[j], verbose=1)\n",
    "print(evaluation)"
   ]
  },
  {
   "cell_type": "code",
   "execution_count": 12,
   "metadata": {},
   "outputs": [
    {
     "name": "stderr",
     "output_type": "stream",
     "text": [
      "/home/z_andrei/anaconda3/envs/myenv/lib/python3.7/site-packages/ipykernel_launcher.py:3: TqdmDeprecationWarning: This function will be removed in tqdm==5.0.0\n",
      "Please use `tqdm.notebook.tqdm` instead of `tqdm.tqdm_notebook`\n",
      "  This is separate from the ipykernel package so we can avoid doing imports until\n"
     ]
    },
    {
     "data": {
      "application/vnd.jupyter.widget-view+json": {
       "model_id": "e251a88cbecb4668b30ee023e4bc77c5",
       "version_major": 2,
       "version_minor": 0
      },
      "text/plain": [
       "HBox(children=(FloatProgress(value=0.0, max=3.0), HTML(value='')))"
      ]
     },
     "metadata": {},
     "output_type": "display_data"
    },
    {
     "name": "stdout",
     "output_type": "stream",
     "text": [
      "8165/8165 [==============================] - 55s 7ms/step\n",
      "9111/9111 [==============================] - 58s 6ms/step\n",
      "9799/9799 [==============================] - 64s 7ms/step\n",
      "\n"
     ]
    },
    {
     "name": "stderr",
     "output_type": "stream",
     "text": [
      "/home/z_andrei/anaconda3/envs/myenv/lib/python3.7/site-packages/ipykernel_launcher.py:12: TqdmDeprecationWarning: This function will be removed in tqdm==5.0.0\n",
      "Please use `tqdm.notebook.tqdm` instead of `tqdm.tqdm_notebook`\n",
      "  if sys.path[0] == '':\n"
     ]
    },
    {
     "data": {
      "application/vnd.jupyter.widget-view+json": {
       "model_id": "dda235bf4e4c4930b618bec469e98156",
       "version_major": 2,
       "version_minor": 0
      },
      "text/plain": [
       "HBox(children=(FloatProgress(value=0.0, max=3.0), HTML(value='')))"
      ]
     },
     "metadata": {},
     "output_type": "display_data"
    },
    {
     "name": "stdout",
     "output_type": "stream",
     "text": [
      "\n"
     ]
    }
   ],
   "source": [
    "predictions = list()\n",
    "fps_128 = list()\n",
    "for j in tqdm(range(3)):\n",
    "    tic = time.perf_counter()\n",
    "    predictions.append(models[j].predict_generator(validation_generators[j], verbose=1))\n",
    "    toc = time.perf_counter()\n",
    "    fps_128.append(len(predictions[j])/(toc - tic))\n",
    "for i in range(len(predictions)):\n",
    "    predictions[i] = np.array(predictions[i])\n",
    "    predictions[i] = np.argmax(predictions[i], axis=1)\n",
    "labels = list()\n",
    "for j in tqdm(range(3)):\n",
    "    labels.append(validation_generators[j].classes)"
   ]
  },
  {
   "cell_type": "code",
   "execution_count": 13,
   "metadata": {},
   "outputs": [
    {
     "name": "stdout",
     "output_type": "stream",
     "text": [
      "[[array([0.88709677, 0.83549784, 0.98586957, 0.79508197, 0.98852295]), array([0.859375  , 0.81434599, 0.98160173, 0.93269231, 0.9905    ])], [array([0.60535117, 0.95808383, 0.92556634, 0.88135593, 0.94957983,\n",
      "       0.98814927]), array([0.74180328, 0.9119696 , 0.77717391, 0.69333333, 0.99297012,\n",
      "       0.97975   ])], [array([0.99281515, 0.33333333, 0.68253968, 0.45      , 0.98549573]), array([0.9808561 , 0.65217391, 0.61428571, 0.26470588, 0.992     ])]]\n"
     ]
    }
   ],
   "source": [
    "metrics_128 = list()\n",
    "for i in range(3):\n",
    "    TP = np.zeros(np.unique(labels[i]).shape[0])\n",
    "    FP = np.zeros(np.unique(labels[i]).shape[0])\n",
    "    TN = np.zeros(np.unique(labels[i]).shape[0])\n",
    "    FN = np.zeros(np.unique(labels[i]).shape[0])\n",
    "    for label in range(np.unique(labels[i]).shape[0]):\n",
    "        for p, l in zip(predictions[i], labels[i]):\n",
    "            TP[label] += (label == l) & (label == p)\n",
    "            FP[label] += (label != l) & (label == p)\n",
    "            TN[label] += (label != l) & (label != p)\n",
    "            FN[label] += (label == l) & (label != p)\n",
    "    precision = TP/(TP+FP)\n",
    "    recall    = TP/(TP+FN)\n",
    "    metrics_128.append([precision, recall])\n",
    "print(metrics_128)"
   ]
  },
  {
   "cell_type": "markdown",
   "metadata": {},
   "source": [
    "## -----------------200-------------------"
   ]
  },
  {
   "cell_type": "code",
   "execution_count": 14,
   "metadata": {},
   "outputs": [
    {
     "name": "stdout",
     "output_type": "stream",
     "text": [
      "Found 8165 images belonging to 5 classes.\n",
      "Found 9111 images belonging to 6 classes.\n",
      "Found 9799 images belonging to 5 classes.\n"
     ]
    }
   ],
   "source": [
    "img_width, img_height = 200, 200\n",
    "validation_data_dir_lights = \"/datasets/DTLD/DTLD_crop/new_test/lights\"\n",
    "validation_data_dir_signal = \"/datasets/DTLD/DTLD_crop/new_test/colours\"\n",
    "validation_data_dir_position = \"/datasets/DTLD/DTLD_crop/new_test/position\"\n",
    "\n",
    "test_datagen = ImageDataGenerator(rescale = 1.0 / 255)\n",
    "validation_generator_lights = test_datagen.flow_from_directory(\n",
    "    validation_data_dir_lights,\n",
    "    target_size = (img_width, img_height),\n",
    "    batch_size = batch_size,\n",
    "    class_mode = 'categorical',\n",
    "    shuffle=False)\n",
    "\n",
    "validation_generator_signal = test_datagen.flow_from_directory(\n",
    "    validation_data_dir_signal,\n",
    "    target_size = (img_width, img_height),\n",
    "    batch_size = batch_size,\n",
    "    class_mode = 'categorical',\n",
    "    shuffle=False)\n",
    "\n",
    "validation_generator_position = test_datagen.flow_from_directory(\n",
    "    validation_data_dir_position,\n",
    "    target_size = (img_width, img_height),\n",
    "    batch_size = batch_size,\n",
    "    class_mode = 'categorical',\n",
    "    shuffle=False)\n",
    "\n",
    "validation_generators = [validation_generator_lights,\\\n",
    "                         validation_generator_signal,\\\n",
    "                         validation_generator_position]"
   ]
  },
  {
   "cell_type": "code",
   "execution_count": 15,
   "metadata": {},
   "outputs": [],
   "source": [
    "model_lights = load_model('weights-lights-improvement-12-0.98.hdf5')\n",
    "model_signal = load_model('weights-improvement-12-0.97.hdf5')\n",
    "model_position = load_model('weights-position-improvement-12-0.98.hdf5')"
   ]
  },
  {
   "cell_type": "code",
   "execution_count": 16,
   "metadata": {},
   "outputs": [
    {
     "name": "stderr",
     "output_type": "stream",
     "text": [
      "/home/z_andrei/anaconda3/envs/myenv/lib/python3.7/site-packages/ipykernel_launcher.py:3: TqdmDeprecationWarning: This function will be removed in tqdm==5.0.0\n",
      "Please use `tqdm.notebook.tqdm` instead of `tqdm.tqdm_notebook`\n",
      "  This is separate from the ipykernel package so we can avoid doing imports until\n"
     ]
    },
    {
     "data": {
      "application/vnd.jupyter.widget-view+json": {
       "model_id": "a39d27d8ceaa4da69a3052972fc99801",
       "version_major": 2,
       "version_minor": 0
      },
      "text/plain": [
       "HBox(children=(FloatProgress(value=0.0, max=3.0), HTML(value='')))"
      ]
     },
     "metadata": {},
     "output_type": "display_data"
    },
    {
     "name": "stdout",
     "output_type": "stream",
     "text": [
      "WARNING:tensorflow:sample_weight modes were coerced from\n",
      "  ...\n",
      "    to  \n",
      "  ['...']\n",
      "8165/8165 [==============================] - 86s 10ms/step - loss: 0.1043 - acc: 0.9671 - mse: 0.0101\n",
      "WARNING:tensorflow:sample_weight modes were coerced from\n",
      "  ...\n",
      "    to  \n",
      "  ['...']\n",
      "9111/9111 [==============================] - 94s 10ms/step - loss: 0.1343 - acc: 0.9663 - mse: 0.0088\n",
      "WARNING:tensorflow:sample_weight modes were coerced from\n",
      "  ...\n",
      "    to  \n",
      "  ['...']\n",
      "9799/9799 [==============================] - 102s 10ms/step - loss: 0.0560 - acc: 0.9811 - mse: 0.0053\n",
      "\n",
      "[[0.10430674 0.96705449 0.01006371]\n",
      " [0.13425919 0.96630448 0.00879265]\n",
      " [0.05597027 0.98112053 0.00531781]]\n"
     ]
    }
   ],
   "source": [
    "evaluation = np.zeros((3, 3))\n",
    "models = [model_lights, model_signal, model_position]\n",
    "for j in tqdm(range(3)):\n",
    "    evaluation[j] = models[j].evaluate_generator(validation_generators[j], verbose=1)\n",
    "print(evaluation)"
   ]
  },
  {
   "cell_type": "code",
   "execution_count": 17,
   "metadata": {},
   "outputs": [
    {
     "name": "stderr",
     "output_type": "stream",
     "text": [
      "/home/z_andrei/anaconda3/envs/myenv/lib/python3.7/site-packages/ipykernel_launcher.py:3: TqdmDeprecationWarning: This function will be removed in tqdm==5.0.0\n",
      "Please use `tqdm.notebook.tqdm` instead of `tqdm.tqdm_notebook`\n",
      "  This is separate from the ipykernel package so we can avoid doing imports until\n"
     ]
    },
    {
     "data": {
      "application/vnd.jupyter.widget-view+json": {
       "model_id": "522d9b0dd0744b2cba5e5f6a27d037d6",
       "version_major": 2,
       "version_minor": 0
      },
      "text/plain": [
       "HBox(children=(FloatProgress(value=0.0, max=3.0), HTML(value='')))"
      ]
     },
     "metadata": {},
     "output_type": "display_data"
    },
    {
     "name": "stdout",
     "output_type": "stream",
     "text": [
      "8165/8165 [==============================] - 65s 8ms/step\n",
      "9111/9111 [==============================] - 73s 8ms/step\n",
      "9799/9799 [==============================] - 80s 8ms/step\n",
      "\n"
     ]
    },
    {
     "name": "stderr",
     "output_type": "stream",
     "text": [
      "/home/z_andrei/anaconda3/envs/myenv/lib/python3.7/site-packages/ipykernel_launcher.py:12: TqdmDeprecationWarning: This function will be removed in tqdm==5.0.0\n",
      "Please use `tqdm.notebook.tqdm` instead of `tqdm.tqdm_notebook`\n",
      "  if sys.path[0] == '':\n"
     ]
    },
    {
     "data": {
      "application/vnd.jupyter.widget-view+json": {
       "model_id": "28a97fba00474f5d95847cff58c3d3a1",
       "version_major": 2,
       "version_minor": 0
      },
      "text/plain": [
       "HBox(children=(FloatProgress(value=0.0, max=3.0), HTML(value='')))"
      ]
     },
     "metadata": {},
     "output_type": "display_data"
    },
    {
     "name": "stdout",
     "output_type": "stream",
     "text": [
      "\n"
     ]
    }
   ],
   "source": [
    "predictions = list()\n",
    "fps_200 = list()\n",
    "for j in tqdm(range(3)):\n",
    "    tic = time.perf_counter()\n",
    "    predictions.append(models[j].predict_generator(validation_generators[j], verbose=1))\n",
    "    toc = time.perf_counter()\n",
    "    fps_200.append(len(predictions[j])/(toc - tic))\n",
    "for i in range(len(predictions)):\n",
    "    predictions[i] = np.array(predictions[i])\n",
    "    predictions[i] = np.argmax(predictions[i], axis=1)\n",
    "labels = list()\n",
    "for j in tqdm(range(3)):\n",
    "    labels.append(validation_generators[j].classes)"
   ]
  },
  {
   "cell_type": "code",
   "execution_count": 18,
   "metadata": {},
   "outputs": [
    {
     "name": "stdout",
     "output_type": "stream",
     "text": [
      "[[array([0.95798319, 0.86153846, 0.9723127 , 0.53367876, 0.9886764 ]), array([0.890625  , 0.70886076, 0.96915584, 0.99038462, 0.98225   ])], [array([0.63554217, 0.95525292, 0.83988764, 0.8852459 , 0.98627727,\n",
      "       0.99648064]), array([0.8647541 , 0.9328689 , 0.8125    , 0.72      , 0.98523726,\n",
      "       0.991     ])], [array([0.98962835, 0.45      , 0.51219512, 0.31707317, 0.99456412]), array([0.9851581 , 0.39130435, 0.9       , 0.38235294, 0.988     ])]]\n"
     ]
    }
   ],
   "source": [
    "metrics_200 = list()\n",
    "for i in range(3):\n",
    "    TP = np.zeros(np.unique(labels[i]).shape[0])\n",
    "    FP = np.zeros(np.unique(labels[i]).shape[0])\n",
    "    TN = np.zeros(np.unique(labels[i]).shape[0])\n",
    "    FN = np.zeros(np.unique(labels[i]).shape[0])\n",
    "    for label in range(np.unique(labels[i]).shape[0]):\n",
    "        for p, l in zip(predictions[i], labels[i]):\n",
    "            TP[label] += (label == l) & (label == p)\n",
    "            FP[label] += (label != l) & (label == p)\n",
    "            TN[label] += (label != l) & (label != p)\n",
    "            FN[label] += (label == l) & (label != p)\n",
    "    precision = TP/(TP+FP)\n",
    "    recall    = TP/(TP+FN)\n",
    "    metrics_200.append([precision, recall])\n",
    "print(metrics_200)"
   ]
  },
  {
   "cell_type": "code",
   "execution_count": 19,
   "metadata": {},
   "outputs": [
    {
     "name": "stdout",
     "output_type": "stream",
     "text": [
      "[152.56757289577857, 152.52875023893654, 151.0473742272507] [149.2461923719904, 155.8009600779781, 152.35570117700144] [126.02369042953299, 124.75867174177274, 122.09081957578128]\n"
     ]
    }
   ],
   "source": [
    "print(fps_71, fps_128, fps_200)"
   ]
  },
  {
   "cell_type": "code",
   "execution_count": null,
   "metadata": {},
   "outputs": [],
   "source": []
  },
  {
   "cell_type": "code",
   "execution_count": null,
   "metadata": {},
   "outputs": [],
   "source": []
  },
  {
   "cell_type": "code",
   "execution_count": null,
   "metadata": {},
   "outputs": [],
   "source": []
  },
  {
   "cell_type": "code",
   "execution_count": null,
   "metadata": {},
   "outputs": [],
   "source": []
  },
  {
   "cell_type": "code",
   "execution_count": null,
   "metadata": {},
   "outputs": [],
   "source": []
  },
  {
   "cell_type": "code",
   "execution_count": null,
   "metadata": {},
   "outputs": [],
   "source": []
  },
  {
   "cell_type": "code",
   "execution_count": null,
   "metadata": {},
   "outputs": [],
   "source": []
  },
  {
   "cell_type": "code",
   "execution_count": null,
   "metadata": {},
   "outputs": [],
   "source": []
  },
  {
   "cell_type": "code",
   "execution_count": null,
   "metadata": {},
   "outputs": [],
   "source": []
  }
 ],
 "metadata": {
  "kernelspec": {
   "display_name": "Python [conda env:myenv]",
   "language": "python",
   "name": "conda-env-myenv-py"
  },
  "language_info": {
   "codemirror_mode": {
    "name": "ipython",
    "version": 3
   },
   "file_extension": ".py",
   "mimetype": "text/x-python",
   "name": "python",
   "nbconvert_exporter": "python",
   "pygments_lexer": "ipython3",
   "version": "3.7.6"
  }
 },
 "nbformat": 4,
 "nbformat_minor": 2
}
