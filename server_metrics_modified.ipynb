{
 "cells": [
  {
   "cell_type": "code",
   "execution_count": 1,
   "metadata": {},
   "outputs": [
    {
     "name": "stderr",
     "output_type": "stream",
     "text": [
      "Using TensorFlow backend.\n"
     ]
    }
   ],
   "source": [
    "# https://habr.com/ru/post/347564/.\n",
    "import os\n",
    "os.environ[\"CUDA_VISIBLE_DEVICES\"]=\"2\"\n",
    "\n",
    "import keras\n",
    "import sys\n",
    "\n",
    "import time\n",
    "#from google.colab import files # для импорта данных в google colab\n",
    "#from google.colab import drive # для импорта данных в google colab из google drive\n",
    "import zipfile # для работы с архивами \n",
    "from tqdm import tqdm_notebook as tqdm\n",
    "\n",
    "import numpy as np # linear algebra\n",
    "import pandas as pd # data processing, CSV file I/O (e.g. pd.read_csv)\n",
    "%matplotlib inline\n",
    "import matplotlib.pyplot as plt\n",
    "import pickle\n",
    "import csv\n",
    "from sklearn.metrics import confusion_matrix, classification_report\n",
    "import tensorflow as tf\n",
    "from PIL import Image\n",
    "import os\n",
    "import tensorflow as tf\n",
    "\n",
    "from keras.layers import Input\n",
    "from keras.applications import xception\n",
    "from keras.preprocessing import image\n",
    "\n",
    "from tensorflow.keras.preprocessing import image as im\n",
    "import time\n",
    "\n",
    "from keras.preprocessing.image import ImageDataGenerator\n",
    "from keras.applications import densenet\n",
    "from keras.models import Sequential, Model, load_model\n",
    "from keras.layers import Conv2D, MaxPooling2D\n",
    "from keras.layers import Activation, Dropout, Flatten, Dense\n",
    "from keras.callbacks import EarlyStopping, ReduceLROnPlateau, ModelCheckpoint, Callback\n",
    "from keras import regularizers\n",
    "from keras import backend as K\n",
    "from sklearn.preprocessing import OneHotEncoder\n",
    "from keras.utils import to_categorical\n",
    "from tensorflow.keras.models import load_model  \n",
    "\n"
   ]
  },
  {
   "cell_type": "code",
   "execution_count": 2,
   "metadata": {},
   "outputs": [],
   "source": [
    "class_names_lights   = ['1', '2', '3', '4', '5']\n",
    "class_names_signal   = ['0', '1', '2', '3', '4', '5']\n",
    "class_names_position = ['1', '2', '3', '4', '5']"
   ]
  },
  {
   "cell_type": "code",
   "execution_count": 3,
   "metadata": {},
   "outputs": [],
   "source": [
    "nb_validation_samples = 12630\n",
    "batch_size = 1\n",
    "n_classes_lights = 5\n",
    "n_classes_signal = 6\n",
    "n_classes_position = 5\n",
    "validation_data_dir_lights = \"/home/z_andrei/datasets/DTLD/val/lights\"\n",
    "validation_data_dir_signal = \"/home/z_andrei/datasets/DTLD/val/colours\"\n",
    "validation_data_dir_position = \"/home/z_andrei/datasets/DTLD/val/position\""
   ]
  },
  {
   "cell_type": "code",
   "execution_count": 4,
   "metadata": {},
   "outputs": [],
   "source": [
    "test_datagen = ImageDataGenerator(rescale = 1.0 / 255)"
   ]
  },
  {
   "cell_type": "code",
   "execution_count": 5,
   "metadata": {},
   "outputs": [],
   "source": [
    "def multiple_outputs(generator, image_dir, batch_size, image_size):\n",
    "    gen = validation_generator_lights = test_datagen.flow_from_directory(\n",
    "    validation_data_dir_lights,\n",
    "    target_size = (71, 71),\n",
    "    batch_size = batch_size,\n",
    "    class_mode = 'categorical',\n",
    "    shuffle=False)\n",
    "    \n",
    "    while True:\n",
    "        gnext = gen.next()\n",
    "        print(gnext[0].shape, gnext[1].shape)\n",
    "        # return image batch and 3 sets of lables\n",
    "        yield gnext[0], gnext[1]\n",
    "        \n",
    "test_generator = multiple_outputs(\n",
    "    test_datagen,\n",
    "    image_dir=validation_data_dir_lights,\n",
    "    batch_size=batch_size,\n",
    "    image_size=(71, 71))"
   ]
  },
  {
   "cell_type": "code",
   "execution_count": 6,
   "metadata": {},
   "outputs": [
    {
     "name": "stdout",
     "output_type": "stream",
     "text": [
      "Found 50107 images belonging to 5 classes.\n",
      "Found 50107 images belonging to 6 classes.\n",
      "Found 50107 images belonging to 5 classes.\n"
     ]
    }
   ],
   "source": [
    "img_width, img_height = 71, 71\n",
    "\n",
    "test_datagen = ImageDataGenerator(rescale = 1.0 / 255)\n",
    "\n",
    "#validation_generator = test_datagen.flow_from_directory()\n",
    "validation_generator_lights = test_datagen.flow_from_directory(\n",
    "    validation_data_dir_lights,\n",
    "    target_size = (img_width, img_height),\n",
    "    batch_size = batch_size,\n",
    "    class_mode = 'categorical',\n",
    "    shuffle=False)\n",
    "\n",
    "validation_generator_signal = test_datagen.flow_from_directory(\n",
    "    validation_data_dir_signal,\n",
    "    target_size = (img_width, img_height),\n",
    "    batch_size = batch_size,\n",
    "    class_mode = 'categorical',\n",
    "    shuffle=False)\n",
    "\n",
    "validation_generator_position = test_datagen.flow_from_directory(\n",
    "    validation_data_dir_position,\n",
    "    target_size = (img_width, img_height),\n",
    "    batch_size = batch_size,\n",
    "    class_mode = 'categorical',\n",
    "    shuffle=False)\n",
    "\n",
    "validation_generators = [validation_generator_lights,\\\n",
    "                         validation_generator_signal,\\\n",
    "                         validation_generator_position]"
   ]
  },
  {
   "cell_type": "code",
   "execution_count": 7,
   "metadata": {},
   "outputs": [],
   "source": [
    "model_backbone1 = load_model('weights-improvement-triple-71-10-aorient-0.94-acolor0.87-anum0.91.hdf5')\n",
    "#model_lights = load_model('weights-lights-improvement-71-11-0.98.hdf5')\n",
    "#model_signal = load_model('weights-improvement-71-06-0.95.hdf5')\n",
    "#model_position = load_model('weights-position-improvement-71-11-0.98.hdf5')"
   ]
  },
  {
   "cell_type": "code",
   "execution_count": 8,
   "metadata": {},
   "outputs": [],
   "source": [
    "model_backbone1.compile(loss='mse', metrics=[tf.keras.metrics.Recall()])"
   ]
  },
  {
   "cell_type": "code",
   "execution_count": 9,
   "metadata": {},
   "outputs": [
    {
     "name": "stdout",
     "output_type": "stream",
     "text": [
      "Found 50107 images belonging to 5 classes.\n"
     ]
    }
   ],
   "source": [
    "img_width, img_height = 71, 71\n",
    "\n",
    "test_datagen = ImageDataGenerator(rescale = 1.0 / 255)\n",
    "validation_data_dir = \"/home/z_andrei/datasets/DTLD/val\"\n",
    "#validation_generator = test_datagen.flow_from_directory()\n",
    "validation_generator = test_datagen.flow_from_directory(\n",
    "    validation_data_dir_lights,\n",
    "    target_size = (img_width, img_height),\n",
    "    batch_size = batch_size,\n",
    "    class_mode = 'categorical',\n",
    "    shuffle=False)"
   ]
  },
  {
   "cell_type": "code",
   "execution_count": 12,
   "metadata": {},
   "outputs": [],
   "source": [
    "with open(\"/home/z_andrei/datasets/backbone_datasets/all_images\", 'rb') as f:\n",
    "    x = pickle.load(f)\n",
    "with open(\"/home/z_andrei/datasets/backbone_datasets/annotations\", 'rb') as f:\n",
    "    y = pickle.load(f)\n",
    "with open(\"/home/z_andrei/datasets/backbone_datasets/all_images_test\", 'rb') as f:\n",
    "    x_test = pickle.load(f)\n",
    "with open(\"/home/z_andrei/datasets/backbone_datasets/annotations_test\", 'rb') as f:\n",
    "    y_test = pickle.load(f)"
   ]
  },
  {
   "cell_type": "code",
   "execution_count": 13,
   "metadata": {},
   "outputs": [
    {
     "data": {
      "text/plain": [
       "array([[1, 0, 0, 0, 0],\n",
       "       [1, 0, 0, 0, 0],\n",
       "       [1, 0, 0, 0, 0],\n",
       "       [1, 0, 0, 0, 0],\n",
       "       [1, 0, 0, 0, 0],\n",
       "       [0, 0, 0, 0, 1],\n",
       "       [1, 0, 0, 0, 0],\n",
       "       [0, 0, 0, 0, 1],\n",
       "       [1, 0, 0, 0, 0],\n",
       "       [0, 0, 0, 0, 1]])"
      ]
     },
     "execution_count": 13,
     "metadata": {},
     "output_type": "execute_result"
    }
   ],
   "source": [
    "x = np.array(x)\n",
    "x_test = np.array(x_test)\n",
    "y=np.array([np.array(u) for u in y])\n",
    "y1, y2, y3 = y[:, 0], y[:, 1], y[:, 2]\n",
    "y1=np.array([np.array(u) for u in y1])\n",
    "y2=np.array([np.array(u) for u in y2])\n",
    "y3=np.array([np.array(u) for u in y3])\n",
    "y_test=np.array([np.array(u) for u in y_test])\n",
    "y1_test, y2_test, y3_test = y_test[:, 0], y_test[:, 1], y_test[:, 2]\n",
    "y1_test=np.array([np.array(u) for u in y1_test])\n",
    "y2_test=np.array([np.array(u) for u in y2_test])\n",
    "y3_test=np.array([np.array(u) for u in y3_test])\n",
    "y1_test[:10]"
   ]
  },
  {
   "cell_type": "code",
   "execution_count": 14,
   "metadata": {},
   "outputs": [
    {
     "name": "stdout",
     "output_type": "stream",
     "text": [
      "6713/6713 [==============================] - 14s 2ms/sample - loss: 0.0968 - pred_orientation_loss: 0.0224 - pred_colors_loss: 0.0398 - pred_numbers_loss: 0.0346 - pred_orientation_recall: 0.8895 - pred_colors_recall: 0.7855 - pred_numbers_recall: 0.8104\n",
      "7\n"
     ]
    }
   ],
   "source": [
    "evaluation = model_backbone1.evaluate(x_test, [y1_test, y2_test, y3_test])\n",
    "print(len(evaluation))"
   ]
  },
  {
   "cell_type": "code",
   "execution_count": 15,
   "metadata": {},
   "outputs": [
    {
     "name": "stdout",
     "output_type": "stream",
     "text": [
      "6713/6713 [==============================] - 63s 9ms/sample\n"
     ]
    }
   ],
   "source": [
    "fps_71 = list()\n",
    "tic = time.perf_counter()\n",
    "predictions = model_backbone1.predict(x_test, verbose=1, batch_size=1)\n",
    "toc = time.perf_counter()\n",
    "fps_71.append(len(predictions[0])/(toc - tic))"
   ]
  },
  {
   "cell_type": "code",
   "execution_count": 16,
   "metadata": {},
   "outputs": [
    {
     "data": {
      "text/plain": [
       "[105.78970735315254]"
      ]
     },
     "execution_count": 16,
     "metadata": {},
     "output_type": "execute_result"
    }
   ],
   "source": [
    "fps_71"
   ]
  },
  {
   "cell_type": "code",
   "execution_count": 17,
   "metadata": {},
   "outputs": [],
   "source": [
    "for i in range(len(predictions)):\n",
    "    predictions[i] = np.array(predictions[i])\n",
    "    predictions[i] = np.argmax(predictions[i], axis=1)"
   ]
  },
  {
   "cell_type": "code",
   "execution_count": 24,
   "metadata": {},
   "outputs": [],
   "source": [
    "labels = list()\n",
    "labels.append(np.argmax(y1_test, axis=1))\n",
    "labels.append(np.argmax(y2_test, axis=1))\n",
    "labels.append(np.argmax(y3_test, axis=1))"
   ]
  },
  {
   "cell_type": "code",
   "execution_count": 19,
   "metadata": {},
   "outputs": [],
   "source": [
    "labels = list()\n",
    "labels.append(np.argmax(y1, axis=1))\n",
    "labels.append(np.argmax(y2, axis=1))\n",
    "labels.append(np.argmax(y3, axis=1))"
   ]
  },
  {
   "cell_type": "code",
   "execution_count": 25,
   "metadata": {},
   "outputs": [],
   "source": [
    "from sklearn.metrics import precision_recall_fscore_support, accuracy_score"
   ]
  },
  {
   "cell_type": "code",
   "execution_count": 59,
   "metadata": {},
   "outputs": [
    {
     "name": "stdout",
     "output_type": "stream",
     "text": [
      "[5288   75   98   50 1202] [ 360 1662  371   78 3040 1202] [ 132  281 4984  114 1202]\n"
     ]
    }
   ],
   "source": [
    "y1_argmax = np.argmax(y1_test, axis=1)\n",
    "y2_argmax = np.argmax(y2_test, axis=1)\n",
    "y3_argmax = np.argmax(y3_test, axis=1)\n",
    "unique1, counts1 = np.unique(y1_argmax, return_counts=True)\n",
    "unique2, counts2 = np.unique(y2_argmax, return_counts=True)\n",
    "unique3, counts3 = np.unique(labels[2], return_counts=True)\n",
    "print(counts1, counts2, counts3)"
   ]
  },
  {
   "cell_type": "code",
   "execution_count": 58,
   "metadata": {},
   "outputs": [],
   "source": [
    "import matplotlib.pyplot as plt\n",
    "%matplotlib inline\n",
    "from sklearn.metrics import confusion_matrix"
   ]
  },
  {
   "cell_type": "code",
   "execution_count": 60,
   "metadata": {},
   "outputs": [
    {
     "name": "stdout",
     "output_type": "stream",
     "text": [
      "6713 6713\n",
      "counts [5288   75   98   50 1202]\n",
      "accuracy 0.9407120512438552 \n",
      "precisions [0.96406959 0.6        0.         0.34       0.9608985 ] \n",
      "recall [0.98990291 0.25568182 0.         0.0982659  0.95140033] \n",
      "f1 [0.97681548 0.35856574 0.         0.15246637 0.95612583]\n",
      "\n",
      "\n"
     ]
    },
    {
     "name": "stderr",
     "output_type": "stream",
     "text": [
      "/home/z_andrei/anaconda3/envs/myenv/lib/python3.7/site-packages/sklearn/metrics/_classification.py:1272: UndefinedMetricWarning: Recall and F-score are ill-defined and being set to 0.0 in labels with no true samples. Use `zero_division` parameter to control this behavior.\n",
      "  _warn_prf(average, modifier, msg_start, len(result))\n"
     ]
    },
    {
     "data": {
      "image/png": "[encoded data removed]",
      "text/plain": [
       "<Figure size 504x504 with 2 Axes>"
      ]
     },
     "metadata": {
      "needs_background": "light"
     },
     "output_type": "display_data"
    },
    {
     "name": "stdout",
     "output_type": "stream",
     "text": [
      "6713 6713\n",
      "counts [ 360 1662  371   78 3040 1202]\n",
      "accuracy 0.900640548190079 \n",
      "precisions [0.75833333 0.88267148 0.76549865 0.         0.95       0.94342762] \n",
      "recall [0.46428571 0.91515908 0.73195876 0.         0.97633536 0.96428571] \n",
      "f1 [0.57594937 0.89862175 0.7483531  0.         0.96298766 0.95374264]\n",
      "\n",
      "\n"
     ]
    },
    {
     "data": {
      "image/png": "[encoded data removed]",
      "text/plain": [
       "<Figure size 504x504 with 2 Axes>"
      ]
     },
     "metadata": {
      "needs_background": "light"
     },
     "output_type": "display_data"
    },
    {
     "name": "stdout",
     "output_type": "stream",
     "text": [
      "6713 6713\n",
      "counts [ 132  281 4984  114 1202]\n",
      "accuracy 0.921793534932221 \n",
      "precisions [0.         0.55160142 0.97772873 0.1754386  0.9484193 ] \n",
      "recall [0.         0.5984556  0.94566272 0.18181818 0.95717884] \n",
      "f1 [0.         0.57407407 0.96142843 0.17857143 0.95277894]\n",
      "\n",
      "\n"
     ]
    },
    {
     "data": {
      "image/png": "[encoded data removed]",
      "text/plain": [
       "<Figure size 504x504 with 2 Axes>"
      ]
     },
     "metadata": {
      "needs_background": "light"
     },
     "output_type": "display_data"
    }
   ],
   "source": [
    "metrics_list = list()\n",
    "for i in range(len(labels)):\n",
    "    print(len(predictions[i]), len(labels[i]))\n",
    "    precisions, recall, f1, _ = precision_recall_fscore_support(predictions[i], labels[i], labels=np.unique(labels[i]))\n",
    "    accuracy = accuracy_score(predictions[i], labels[i])\n",
    "    unique, counts = np.unique(labels[i], return_counts=True)\n",
    "    print('counts {}'.format(counts))\n",
    "    print('accuracy {} \\nprecisions {} \\nrecall {} \\nf1 {}\\n\\n'.format(accuracy, precisions, recall, f1))\n",
    "    \n",
    "    confusion = confusion_matrix(predictions[i], labels[i], labels=np.unique(labels[i]), normalize='pred')\n",
    "    plt.figure(figsize=(7, 7))\n",
    "    plt.imshow(confusion)\n",
    "    plt.colorbar()\n",
    "    plt.show()"
   ]
  }
 ],
 "metadata": {
  "kernelspec": {
   "display_name": "Python [conda env:myenv]",
   "language": "python",
   "name": "conda-env-myenv-py"
  },
  "language_info": {
   "codemirror_mode": {
    "name": "ipython",
    "version": 3
   },
   "file_extension": ".py",
   "mimetype": "text/x-python",
   "name": "python",
   "nbconvert_exporter": "python",
   "pygments_lexer": "ipython3",
   "version": "3.7.6"
  }
 },
 "nbformat": 4,
 "nbformat_minor": 2
}
