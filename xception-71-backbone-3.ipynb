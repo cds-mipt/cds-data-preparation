{
 "cells": [
  {
   "cell_type": "code",
   "execution_count": 1,
   "metadata": {
    "scrolled": true
   },
   "outputs": [
    {
     "name": "stderr",
     "output_type": "stream",
     "text": [
      "Using TensorFlow backend.\n"
     ]
    }
   ],
   "source": [
    "# https://habr.com/ru/post/347564/.\n",
    "import os\n",
    "os.environ[\"CUDA_VISIBLE_DEVICES\"]=\"0\"\n",
    "#os.environ['THEANO_FLAGS'] = \"mode=FAST_RUN,device=cuda:0,floatX=float32\"\n",
    "#import theano\n",
    "#print(theano.config.device, theano.config.floatX)\n",
    "\n",
    "import keras\n",
    "import keras_metrics\n",
    "import sys\n",
    "#from google.colab import files # для импорта данных в google colab\n",
    "#from google.colab import drive # для импорта данных в google colab из google drive\n",
    "import zipfile # для работы с архивами \n",
    "\n",
    "import numpy as np # linear algebra\n",
    "import pandas as pd # data processing, CSV file I/O (e.g. pd.read_csv)\n",
    "import cv2\n",
    "%matplotlib inline\n",
    "import matplotlib.pyplot as plt\n",
    "import seaborn as sn\n",
    "import pickle\n",
    "import csv\n",
    "from sklearn.metrics import confusion_matrix, classification_report\n",
    "import tensorflow as tf\n",
    "from PIL import Image\n",
    "import os\n",
    "import tensorflow as tf\n",
    "\n",
    "from keras.layers import Input\n",
    "from keras.applications import xception\n",
    "#from keras.applications import resnet\n",
    "from keras.preprocessing import image\n",
    "\n",
    "from tensorflow.keras.preprocessing import image as im\n",
    "import time\n",
    "\n",
    "from keras.preprocessing.image import ImageDataGenerator\n",
    "from keras.applications import densenet\n",
    "from keras.models import Sequential, Model, load_model\n",
    "from keras.layers import Conv2D, MaxPooling2D\n",
    "from keras.layers import Activation, Dropout, Flatten, Dense\n",
    "from keras.callbacks import EarlyStopping, ReduceLROnPlateau, ModelCheckpoint, Callback\n",
    "from keras import regularizers\n",
    "from keras import backend as K\n",
    "from sklearn.preprocessing import OneHotEncoder\n",
    "from keras.utils import to_categorical\n",
    "from tensorflow.keras.models import load_model  \n",
    "\n"
   ]
  },
  {
   "cell_type": "code",
   "execution_count": 2,
   "metadata": {},
   "outputs": [
    {
     "name": "stdout",
     "output_type": "stream",
     "text": [
      "Device mapping:\n",
      "/job:localhost/replica:0/task:0/device:XLA_CPU:0 -> device: XLA_CPU device\n",
      "/job:localhost/replica:0/task:0/device:GPU:0 -> device: 0, name: Tesla V100-SXM2-32GB, pci bus id: 0000:01:00.0, compute capability: 7.0\n",
      "/job:localhost/replica:0/task:0/device:XLA_GPU:0 -> device: XLA_GPU device\n",
      "\n"
     ]
    }
   ],
   "source": [
    "sess = tf.Session(config=tf.ConfigProto(log_device_placement=True))"
   ]
  },
  {
   "cell_type": "code",
   "execution_count": 3,
   "metadata": {},
   "outputs": [
    {
     "name": "stdout",
     "output_type": "stream",
     "text": [
      "[name: \"/device:CPU:0\"\n",
      "device_type: \"CPU\"\n",
      "memory_limit: 268435456\n",
      "locality {\n",
      "}\n",
      "incarnation: 16903439595751731400\n",
      ", name: \"/device:XLA_CPU:0\"\n",
      "device_type: \"XLA_CPU\"\n",
      "memory_limit: 17179869184\n",
      "locality {\n",
      "}\n",
      "incarnation: 13642675103112376558\n",
      "physical_device_desc: \"device: XLA_CPU device\"\n",
      ", name: \"/device:GPU:0\"\n",
      "device_type: \"GPU\"\n",
      "memory_limit: 24301820314\n",
      "locality {\n",
      "  bus_id: 1\n",
      "  links {\n",
      "  }\n",
      "}\n",
      "incarnation: 11808060847465704865\n",
      "physical_device_desc: \"device: 0, name: Tesla V100-SXM2-32GB, pci bus id: 0000:01:00.0, compute capability: 7.0\"\n",
      ", name: \"/device:XLA_GPU:0\"\n",
      "device_type: \"XLA_GPU\"\n",
      "memory_limit: 17179869184\n",
      "locality {\n",
      "}\n",
      "incarnation: 12049550360335863450\n",
      "physical_device_desc: \"device: XLA_GPU device\"\n",
      "]\n"
     ]
    }
   ],
   "source": [
    "from tensorflow.python.client import device_lib\n",
    "print(device_lib.list_local_devices())"
   ]
  },
  {
   "cell_type": "code",
   "execution_count": 4,
   "metadata": {},
   "outputs": [],
   "source": [
    "config = tf.ConfigProto( device_count = {'GPU': 2 } ) \n",
    "sess = tf.Session(config=config) \n",
    "keras.backend.set_session(sess)"
   ]
  },
  {
   "cell_type": "code",
   "execution_count": 5,
   "metadata": {},
   "outputs": [
    {
     "name": "stdout",
     "output_type": "stream",
     "text": [
      "WARNING:tensorflow:From /home/z_andrei/anaconda3/envs/open-mmlab/lib/python3.7/site-packages/keras/backend/tensorflow_backend.py:153: The name tf.get_default_graph is deprecated. Please use tf.compat.v1.get_default_graph instead.\n",
      "\n"
     ]
    }
   ],
   "source": [
    "K.set_learning_phase(1)"
   ]
  },
  {
   "cell_type": "code",
   "execution_count": 6,
   "metadata": {},
   "outputs": [],
   "source": [
    "img_width, img_height = 71, 71\n",
    "nb_train_samples = 26640\n",
    "nb_validation_samples = 12630\n",
    "epochs = 12\n",
    "batch_size = 8\n",
    "n_classes = 6"
   ]
  },
  {
   "cell_type": "code",
   "execution_count": 7,
   "metadata": {},
   "outputs": [
    {
     "name": "stdout",
     "output_type": "stream",
     "text": [
      "244\r\n"
     ]
    }
   ],
   "source": [
    "!ls /datasets/DTLD/DTLD_crop/new_test/colours/0 |wc -l"
   ]
  },
  {
   "cell_type": "code",
   "execution_count": 8,
   "metadata": {},
   "outputs": [],
   "source": [
    "def build_model_Xception():\n",
    "    input_shape=(img_width, img_height, 3)\n",
    "    img_input = Input(shape=input_shape)  \n",
    "    base_model = xception.Xception(include_top=False, \n",
    "                                      weights = None,\n",
    "                                      input_tensor = None,\n",
    "                                      input_shape=(img_width, img_height, 3),\n",
    "                                      pooling=None)\n",
    "    for layer in base_model.layers:\n",
    "        layer.trainable = True\n",
    "    x = base_model(img_input)\n",
    "    x = Flatten()(x)\n",
    "    pred_col = Dense(units=6, activation=\"sigmoid\", name=\"pred_colors\")(x)\n",
    "    pred_num = Dense(units=5, activation=\"sigmoid\", name=\"pred_numbers\")(x)\n",
    "    pred_pos = Dense(units=5, activation=\"sigmoid\", name=\"pred_orientation\")(x)\n",
    "    for layer in base_model.layers:\n",
    "        layer.trainable = True\n",
    "    model = Model(inputs=img_input, outputs=[pred_pos, pred_col, pred_num], name='my_Xception')\n",
    "                  #outputs=[pred_sig, pred_col, pred_pos], name='my_Xception')\n",
    "    return model"
   ]
  },
  {
   "cell_type": "code",
   "execution_count": 9,
   "metadata": {},
   "outputs": [
    {
     "name": "stdout",
     "output_type": "stream",
     "text": [
      "WARNING:tensorflow:From /home/z_andrei/anaconda3/envs/open-mmlab/lib/python3.7/site-packages/keras/backend/tensorflow_backend.py:517: The name tf.placeholder is deprecated. Please use tf.compat.v1.placeholder instead.\n",
      "\n",
      "WARNING:tensorflow:From /home/z_andrei/anaconda3/envs/open-mmlab/lib/python3.7/site-packages/keras/backend/tensorflow_backend.py:4138: The name tf.random_uniform is deprecated. Please use tf.random.uniform instead.\n",
      "\n",
      "WARNING:tensorflow:From /home/z_andrei/anaconda3/envs/open-mmlab/lib/python3.7/site-packages/keras/backend/tensorflow_backend.py:174: The name tf.get_default_session is deprecated. Please use tf.compat.v1.get_default_session instead.\n",
      "\n",
      "WARNING:tensorflow:From /home/z_andrei/anaconda3/envs/open-mmlab/lib/python3.7/site-packages/keras/backend/tensorflow_backend.py:190: The name tf.global_variables is deprecated. Please use tf.compat.v1.global_variables instead.\n",
      "\n",
      "WARNING:tensorflow:From /home/z_andrei/anaconda3/envs/open-mmlab/lib/python3.7/site-packages/keras/backend/tensorflow_backend.py:199: The name tf.is_variable_initialized is deprecated. Please use tf.compat.v1.is_variable_initialized instead.\n",
      "\n",
      "WARNING:tensorflow:From /home/z_andrei/anaconda3/envs/open-mmlab/lib/python3.7/site-packages/keras/backend/tensorflow_backend.py:206: The name tf.variables_initializer is deprecated. Please use tf.compat.v1.variables_initializer instead.\n",
      "\n",
      "WARNING:tensorflow:From /home/z_andrei/anaconda3/envs/open-mmlab/lib/python3.7/site-packages/keras/backend/tensorflow_backend.py:1834: The name tf.nn.fused_batch_norm is deprecated. Please use tf.compat.v1.nn.fused_batch_norm instead.\n",
      "\n",
      "WARNING:tensorflow:From /home/z_andrei/anaconda3/envs/open-mmlab/lib/python3.7/site-packages/keras/backend/tensorflow_backend.py:3976: The name tf.nn.max_pool is deprecated. Please use tf.nn.max_pool2d instead.\n",
      "\n",
      "WARNING:tensorflow:From /home/z_andrei/anaconda3/envs/open-mmlab/lib/python3.7/site-packages/keras/optimizers.py:790: The name tf.train.Optimizer is deprecated. Please use tf.compat.v1.train.Optimizer instead.\n",
      "\n",
      "WARNING:tensorflow:From /home/z_andrei/anaconda3/envs/open-mmlab/lib/python3.7/site-packages/keras/backend/tensorflow_backend.py:3295: The name tf.log is deprecated. Please use tf.math.log instead.\n",
      "\n"
     ]
    }
   ],
   "source": [
    "model = build_model_Xception()\n",
    "model.compile(loss = 'categorical_crossentropy', optimizer = 'adam', metrics = ['acc', 'mse'])"
   ]
  },
  {
   "cell_type": "code",
   "execution_count": 10,
   "metadata": {},
   "outputs": [],
   "source": [
    "early_stop = EarlyStopping(monitor='val_loss', patience=8, verbose=1, min_delta=1e-4) # остановка обучения, если loss на валидационном множесте улучшается менее чем на 10^-4\n",
    "#reduce_lr = ReduceLROnPlateau(monitor='val_loss', factor=0.1, patience=4, verbose=1, min_delta=1e-4)\n",
    "filepath=\"weights-improvement-triple-71-{epoch:02d}-aorient-{val_pred_orientation_acc:.2f}-acolor{val_pred_colors_acc:.2f}-anum{val_pred_numbers_acc:.2f}.hdf5\"\n",
    "#check = ModelCheckpoint(filepath, monitor = \"val_pred_colors_loss\", save_best_only = False) # сохранение лучшей (с наибольшим acc на валидационном множестве) сети\n",
    "check = ModelCheckpoint(filepath, save_best_only = False) # сохранение лучшей (с наибольшим acc на валидационном множестве) сети\n",
    "callbacks_list = [early_stop, check]"
   ]
  },
  {
   "cell_type": "code",
   "execution_count": 11,
   "metadata": {},
   "outputs": [],
   "source": [
    "with open(\"/home/z_andrei/datasets/new_annotations/all_images\", 'rb') as f:\n",
    "    x = pickle.load(f)\n",
    "with open(\"/home/z_andrei/datasets/new_annotations/annotations\", 'rb') as f:\n",
    "    y = pickle.load(f)\n",
    "with open(\"/home/z_andrei/datasets/new_annotations/all_images_test\", 'rb') as f:\n",
    "    x_test = pickle.load(f)\n",
    "with open(\"//home/z_andrei/datasets/new_annotations/annotations_test\", 'rb') as f:\n",
    "    y_test = pickle.load(f)"
   ]
  },
  {
   "cell_type": "code",
   "execution_count": 12,
   "metadata": {},
   "outputs": [
    {
     "data": {
      "text/plain": [
       "\"\\nfor i in range(10):\\n    img = x[i]\\n    cv2.imshow('image',img)\\n    cv2.waitKey(0)\\ncv2.destroyAllWindows()\\n\""
      ]
     },
     "execution_count": 12,
     "metadata": {},
     "output_type": "execute_result"
    }
   ],
   "source": [
    "'''\n",
    "for i in range(10):\n",
    "    img = x[i]\n",
    "    cv2.imshow('image',img)\n",
    "    cv2.waitKey(0)\n",
    "cv2.destroyAllWindows()\n",
    "'''"
   ]
  },
  {
   "cell_type": "code",
   "execution_count": 13,
   "metadata": {},
   "outputs": [
    {
     "data": {
      "text/plain": [
       "array([[1, 0, 0, 0, 0],\n",
       "       [0, 0, 0, 0, 1],\n",
       "       [1, 0, 0, 0, 0],\n",
       "       [0, 0, 0, 0, 1],\n",
       "       [1, 0, 0, 0, 0],\n",
       "       [1, 0, 0, 0, 0],\n",
       "       [0, 0, 0, 0, 1],\n",
       "       [1, 0, 0, 0, 0],\n",
       "       [0, 0, 0, 0, 1],\n",
       "       [0, 0, 0, 0, 1]])"
      ]
     },
     "execution_count": 13,
     "metadata": {},
     "output_type": "execute_result"
    }
   ],
   "source": [
    "x = np.array(x)\n",
    "x_test = np.array(x_test)\n",
    "y=np.array([np.array(u) for u in y])\n",
    "y1, y2, y3 = y[:, 0], y[:, 1], y[:, 2]\n",
    "y1=np.array([np.array(u) for u in y1])\n",
    "y2=np.array([np.array(u) for u in y2])\n",
    "y3=np.array([np.array(u) for u in y3])\n",
    "y_test=np.array([np.array(u) for u in y_test])\n",
    "y1_test, y2_test, y3_test = y_test[:, 0], y_test[:, 1], y_test[:, 2]\n",
    "y1_test=np.array([np.array(u) for u in y1_test])\n",
    "y2_test=np.array([np.array(u) for u in y2_test])\n",
    "y3_test=np.array([np.array(u) for u in y3_test])\n",
    "y1_test[:10]"
   ]
  },
  {
   "cell_type": "code",
   "execution_count": 14,
   "metadata": {},
   "outputs": [
    {
     "name": "stdout",
     "output_type": "stream",
     "text": [
      "__________________________________________________________________________________________________\n",
      "Layer (type)                    Output Shape         Param #     Connected to                     \n",
      "==================================================================================================\n",
      "input_1 (InputLayer)            (None, 71, 71, 3)    0                                            \n",
      "__________________________________________________________________________________________________\n",
      "xception (Model)                (None, 3, 3, 2048)   20861480    input_1[0][0]                    \n",
      "__________________________________________________________________________________________________\n",
      "flatten_1 (Flatten)             (None, 18432)        0           xception[1][0]                   \n",
      "__________________________________________________________________________________________________\n",
      "pred_orientation (Dense)        (None, 5)            92165       flatten_1[0][0]                  \n",
      "__________________________________________________________________________________________________\n",
      "pred_colors (Dense)             (None, 6)            110598      flatten_1[0][0]                  \n",
      "__________________________________________________________________________________________________\n",
      "pred_numbers (Dense)            (None, 5)            92165       flatten_1[0][0]                  \n",
      "==================================================================================================\n",
      "Total params: 21,156,408\n",
      "Trainable params: 21,101,880\n",
      "Non-trainable params: 54,528\n",
      "__________________________________________________________________________________________________\n"
     ]
    }
   ],
   "source": [
    "stringlist = []\n",
    "model.summary(print_fn=lambda x: stringlist.append(x))\n",
    "short_model_summary = \"\\n\".join(stringlist)\n",
    "print(short_model_summary)"
   ]
  },
  {
   "cell_type": "code",
   "execution_count": 15,
   "metadata": {},
   "outputs": [
    {
     "name": "stdout",
     "output_type": "stream",
     "text": [
      "(26832, 71, 71, 3) (26832, 5) (26832, 6) (26832, 5)\n"
     ]
    }
   ],
   "source": [
    "print(x.shape, y1.shape, y2.shape, y3.shape)"
   ]
  },
  {
   "cell_type": "code",
   "execution_count": 16,
   "metadata": {},
   "outputs": [
    {
     "name": "stdout",
     "output_type": "stream",
     "text": [
      "WARNING:tensorflow:From /home/z_andrei/anaconda3/envs/open-mmlab/lib/python3.7/site-packages/tensorflow_core/python/ops/math_grad.py:1424: where (from tensorflow.python.ops.array_ops) is deprecated and will be removed in a future version.\n",
      "Instructions for updating:\n",
      "Use tf.where in 2.0, which has the same broadcast rule as np.where\n",
      "WARNING:tensorflow:From /home/z_andrei/anaconda3/envs/open-mmlab/lib/python3.7/site-packages/keras/backend/tensorflow_backend.py:986: The name tf.assign_add is deprecated. Please use tf.compat.v1.assign_add instead.\n",
      "\n",
      "WARNING:tensorflow:From /home/z_andrei/anaconda3/envs/open-mmlab/lib/python3.7/site-packages/keras/backend/tensorflow_backend.py:973: The name tf.assign is deprecated. Please use tf.compat.v1.assign instead.\n",
      "\n",
      "Train on 26832 samples, validate on 6708 samples\n",
      "Epoch 1/12\n",
      "26832/26832 [==============================] - 258s 10ms/step - loss: 1.9998 - pred_orientation_loss: 0.5744 - pred_colors_loss: 0.7775 - pred_numbers_loss: 0.6479 - pred_orientation_acc: 0.8792 - pred_orientation_mean_squared_error: 0.0409 - pred_colors_acc: 0.7570 - pred_colors_mean_squared_error: 0.0792 - pred_numbers_acc: 0.8473 - pred_numbers_mean_squared_error: 0.0512 - val_loss: 1.9088 - val_pred_orientation_loss: 0.4774 - val_pred_colors_loss: 0.8503 - val_pred_numbers_loss: 0.5811 - val_pred_orientation_acc: 0.9113 - val_pred_orientation_mean_squared_error: 0.0334 - val_pred_colors_acc: 0.7199 - val_pred_colors_mean_squared_error: 0.1134 - val_pred_numbers_acc: 0.8798 - val_pred_numbers_mean_squared_error: 0.0410\n",
      "Epoch 2/12\n",
      "26832/26832 [==============================] - 247s 9ms/step - loss: 1.6693 - pred_orientation_loss: 0.4480 - pred_colors_loss: 0.7039 - pred_numbers_loss: 0.5175 - pred_orientation_acc: 0.9110 - pred_orientation_mean_squared_error: 0.0758 - pred_colors_acc: 0.7948 - pred_colors_mean_squared_error: 0.0801 - pred_numbers_acc: 0.8175 - pred_numbers_mean_squared_error: 0.0568 - val_loss: 1.6151 - val_pred_orientation_loss: 0.3865 - val_pred_colors_loss: 0.7487 - val_pred_numbers_loss: 0.4799 - val_pred_orientation_acc: 0.9264 - val_pred_orientation_mean_squared_error: 0.1028 - val_pred_colors_acc: 0.8041 - val_pred_colors_mean_squared_error: 0.0573 - val_pred_numbers_acc: 0.8043 - val_pred_numbers_mean_squared_error: 0.0614\n",
      "Epoch 3/12\n",
      "26832/26832 [==============================] - 211s 8ms/step - loss: 1.2324 - pred_orientation_loss: 0.3422 - pred_colors_loss: 0.5346 - pred_numbers_loss: 0.3556 - pred_orientation_acc: 0.9427 - pred_orientation_mean_squared_error: 0.0973 - pred_colors_acc: 0.8229 - pred_colors_mean_squared_error: 0.0485 - pred_numbers_acc: 0.8228 - pred_numbers_mean_squared_error: 0.0552 - val_loss: 1.5042 - val_pred_orientation_loss: 0.3221 - val_pred_colors_loss: 0.7492 - val_pred_numbers_loss: 0.4328 - val_pred_orientation_acc: 0.9448 - val_pred_orientation_mean_squared_error: 0.0996 - val_pred_colors_acc: 0.8199 - val_pred_colors_mean_squared_error: 0.0560 - val_pred_numbers_acc: 0.8232 - val_pred_numbers_mean_squared_error: 0.0631\n",
      "Epoch 4/12\n",
      "26832/26832 [==============================] - 235s 9ms/step - loss: 1.8484 - pred_orientation_loss: 0.3181 - pred_colors_loss: 1.1424 - pred_numbers_loss: 0.3878 - pred_orientation_acc: 0.9437 - pred_orientation_mean_squared_error: 0.0786 - pred_colors_acc: 0.8557 - pred_colors_mean_squared_error: 0.0492 - pred_numbers_acc: 0.8363 - pred_numbers_mean_squared_error: 0.0574 - val_loss: 2.0209 - val_pred_orientation_loss: 0.2958 - val_pred_colors_loss: 1.2748 - val_pred_numbers_loss: 0.4502 - val_pred_orientation_acc: 0.9410 - val_pred_orientation_mean_squared_error: 0.0787 - val_pred_colors_acc: 0.8369 - val_pred_colors_mean_squared_error: 0.0569 - val_pred_numbers_acc: 0.9180 - val_pred_numbers_mean_squared_error: 0.0393\n",
      "Epoch 5/12\n",
      "26832/26832 [==============================] - 245s 9ms/step - loss: 3.2387 - pred_orientation_loss: 0.7509 - pred_colors_loss: 1.6504 - pred_numbers_loss: 0.8374 - pred_orientation_acc: 0.8207 - pred_orientation_mean_squared_error: 0.0855 - pred_colors_acc: 0.4430 - pred_colors_mean_squared_error: 0.4910 - pred_numbers_acc: 0.7966 - pred_numbers_mean_squared_error: 0.0931 - val_loss: 3.5277 - val_pred_orientation_loss: 0.8137 - val_pred_colors_loss: 1.7918 - val_pred_numbers_loss: 0.9222 - val_pred_orientation_acc: 0.7880 - val_pred_orientation_mean_squared_error: 0.0799 - val_pred_colors_acc: 0.0537 - val_pred_colors_mean_squared_error: 0.8333 - val_pred_numbers_acc: 0.7427 - val_pred_numbers_mean_squared_error: 0.0952\n",
      "Epoch 6/12\n",
      "26832/26832 [==============================] - 229s 9ms/step - loss: 3.6084 - pred_orientation_loss: 0.8755 - pred_colors_loss: 1.7918 - pred_numbers_loss: 0.9412 - pred_orientation_acc: 0.7277 - pred_orientation_mean_squared_error: 0.0941 - pred_colors_acc: 0.1161 - pred_colors_mean_squared_error: 0.8333 - pred_numbers_acc: 0.6942 - pred_numbers_mean_squared_error: 0.1049 - val_loss: 3.3080 - val_pred_orientation_loss: 0.6866 - val_pred_colors_loss: 1.7918 - val_pred_numbers_loss: 0.8296 - val_pred_orientation_acc: 0.7880 - val_pred_orientation_mean_squared_error: 0.0737 - val_pred_colors_acc: 0.0537 - val_pred_colors_mean_squared_error: 0.8333 - val_pred_numbers_acc: 0.7427 - val_pred_numbers_mean_squared_error: 0.0901\n",
      "Epoch 7/12\n",
      "26832/26832 [==============================] - 217s 8ms/step - loss: 3.5681 - pred_orientation_loss: 0.8548 - pred_colors_loss: 1.7918 - pred_numbers_loss: 0.9215 - pred_orientation_acc: 0.7277 - pred_orientation_mean_squared_error: 0.0946 - pred_colors_acc: 0.1161 - pred_colors_mean_squared_error: 0.8333 - pred_numbers_acc: 0.6942 - pred_numbers_mean_squared_error: 0.1056 - val_loss: 3.2914 - val_pred_orientation_loss: 0.6746 - val_pred_colors_loss: 1.7918 - val_pred_numbers_loss: 0.8251 - val_pred_orientation_acc: 0.7880 - val_pred_orientation_mean_squared_error: 0.0739 - val_pred_colors_acc: 0.0537 - val_pred_colors_mean_squared_error: 0.8333 - val_pred_numbers_acc: 0.7427 - val_pred_numbers_mean_squared_error: 0.0907\n",
      "Epoch 8/12\n",
      "26832/26832 [==============================] - 251s 9ms/step - loss: 3.5664 - pred_orientation_loss: 0.8540 - pred_colors_loss: 1.7918 - pred_numbers_loss: 0.9206 - pred_orientation_acc: 0.7277 - pred_orientation_mean_squared_error: 0.0950 - pred_colors_acc: 0.1161 - pred_colors_mean_squared_error: 0.8333 - pred_numbers_acc: 0.6942 - pred_numbers_mean_squared_error: 0.1061 - val_loss: 3.2889 - val_pred_orientation_loss: 0.6722 - val_pred_colors_loss: 1.7918 - val_pred_numbers_loss: 0.8249 - val_pred_orientation_acc: 0.7880 - val_pred_orientation_mean_squared_error: 0.0741 - val_pred_colors_acc: 0.0537 - val_pred_colors_mean_squared_error: 0.8333 - val_pred_numbers_acc: 0.7427 - val_pred_numbers_mean_squared_error: 0.0909\n",
      "Epoch 9/12\n",
      "26832/26832 [==============================] - 244s 9ms/step - loss: 3.5663 - pred_orientation_loss: 0.8540 - pred_colors_loss: 1.7918 - pred_numbers_loss: 0.9205 - pred_orientation_acc: 0.7277 - pred_orientation_mean_squared_error: 0.0951 - pred_colors_acc: 0.1161 - pred_colors_mean_squared_error: 0.8333 - pred_numbers_acc: 0.6942 - pred_numbers_mean_squared_error: 0.1063 - val_loss: 3.2880 - val_pred_orientation_loss: 0.6717 - val_pred_colors_loss: 1.7918 - val_pred_numbers_loss: 0.8245 - val_pred_orientation_acc: 0.7880 - val_pred_orientation_mean_squared_error: 0.0741 - val_pred_colors_acc: 0.0537 - val_pred_colors_mean_squared_error: 0.8333 - val_pred_numbers_acc: 0.7427 - val_pred_numbers_mean_squared_error: 0.0910\n",
      "Epoch 10/12\n",
      "26832/26832 [==============================] - 235s 9ms/step - loss: 3.5662 - pred_orientation_loss: 0.8540 - pred_colors_loss: 1.7918 - pred_numbers_loss: 0.9205 - pred_orientation_acc: 0.7277 - pred_orientation_mean_squared_error: 0.0951 - pred_colors_acc: 0.1161 - pred_colors_mean_squared_error: 0.8333 - pred_numbers_acc: 0.6942 - pred_numbers_mean_squared_error: 0.1064 - val_loss: 3.2862 - val_pred_orientation_loss: 0.6706 - val_pred_colors_loss: 1.7918 - val_pred_numbers_loss: 0.8238 - val_pred_orientation_acc: 0.7880 - val_pred_orientation_mean_squared_error: 0.0741 - val_pred_colors_acc: 0.0537 - val_pred_colors_mean_squared_error: 0.8333 - val_pred_numbers_acc: 0.7427 - val_pred_numbers_mean_squared_error: 0.0909\n",
      "Epoch 11/12\n",
      "26832/26832 [==============================] - 231s 9ms/step - loss: 3.5663 - pred_orientation_loss: 0.8540 - pred_colors_loss: 1.7918 - pred_numbers_loss: 0.9205 - pred_orientation_acc: 0.7277 - pred_orientation_mean_squared_error: 0.0951 - pred_colors_acc: 0.1161 - pred_colors_mean_squared_error: 0.8333 - pred_numbers_acc: 0.6942 - pred_numbers_mean_squared_error: 0.1063 - val_loss: 3.2885 - val_pred_orientation_loss: 0.6708 - val_pred_colors_loss: 1.7918 - val_pred_numbers_loss: 0.8259 - val_pred_orientation_acc: 0.7880 - val_pred_orientation_mean_squared_error: 0.0741 - val_pred_colors_acc: 0.0537 - val_pred_colors_mean_squared_error: 0.8333 - val_pred_numbers_acc: 0.7427 - val_pred_numbers_mean_squared_error: 0.0910\n",
      "Epoch 00011: early stopping\n"
     ]
    }
   ],
   "source": [
    "model_history = model.fit(\n",
    "                            x,\n",
    "                            [y1, y2, y3],\n",
    "                            epochs=epochs, \n",
    "                            batch_size=batch_size,\n",
    "                            validation_data=(x_test, [y1_test, y2_test, y3_test]),\n",
    "                            callbacks=callbacks_list\n",
    "                        )\n",
    "#hist = model.fit(x, [y_gender,y_age], epochs=epochs, batch_size=batch_size, validation_data=(dataVal, [labelsGenderVal,labelsAgeVal]), callbacks=callbacks)\n",
    "    "
   ]
  },
  {
   "cell_type": "code",
   "execution_count": 17,
   "metadata": {},
   "outputs": [
    {
     "data": {
      "text/plain": [
       "[<keras.callbacks.EarlyStopping at 0x7f0ce434c0f0>,\n",
       " <keras.callbacks.ModelCheckpoint at 0x7f0ce434c128>]"
      ]
     },
     "execution_count": 17,
     "metadata": {},
     "output_type": "execute_result"
    }
   ],
   "source": [
    "callbacks_list"
   ]
  },
  {
   "cell_type": "code",
   "execution_count": 18,
   "metadata": {},
   "outputs": [
    {
     "name": "stdout",
     "output_type": "stream",
     "text": [
      "WARNING:tensorflow:From /home/z_andrei/anaconda3/envs/open-mmlab/lib/python3.7/site-packages/tensorflow_core/python/ops/resource_variable_ops.py:1630: calling BaseResourceVariable.__init__ (from tensorflow.python.ops.resource_variable_ops) with constraint is deprecated and will be removed in a future version.\n",
      "Instructions for updating:\n",
      "If using Keras pass *_constraint arguments to layers.\n"
     ]
    }
   ],
   "source": [
    "model = load_model('weights-improvement-71-08-0.96.hdf5')"
   ]
  },
  {
   "cell_type": "code",
   "execution_count": 19,
   "metadata": {},
   "outputs": [
    {
     "ename": "NameError",
     "evalue": "name 'precision' is not defined",
     "output_type": "error",
     "traceback": [
      "\u001b[0;31m---------------------------------------------------------------------------\u001b[0m",
      "\u001b[0;31mNameError\u001b[0m                                 Traceback (most recent call last)",
      "\u001b[0;32m<ipython-input-19-9bbfef1507c5>\u001b[0m in \u001b[0;36m<module>\u001b[0;34m\u001b[0m\n\u001b[0;32m----> 1\u001b[0;31m \u001b[0mmodel\u001b[0m\u001b[0;34m.\u001b[0m\u001b[0mcompile\u001b[0m\u001b[0;34m(\u001b[0m\u001b[0mloss\u001b[0m \u001b[0;34m=\u001b[0m \u001b[0;34m'categorical_crossentropy'\u001b[0m\u001b[0;34m,\u001b[0m \u001b[0moptimizer\u001b[0m \u001b[0;34m=\u001b[0m \u001b[0;34m'adam'\u001b[0m\u001b[0;34m,\u001b[0m \u001b[0mmetrics\u001b[0m \u001b[0;34m=\u001b[0m \u001b[0;34m[\u001b[0m\u001b[0;34m'acc'\u001b[0m\u001b[0;34m,\u001b[0m \u001b[0;34m'mse'\u001b[0m\u001b[0;34m,\u001b[0m \u001b[0mprecision\u001b[0m\u001b[0;34m,\u001b[0m \u001b[0mrecall\u001b[0m\u001b[0;34m]\u001b[0m\u001b[0;34m)\u001b[0m\u001b[0;34m\u001b[0m\u001b[0;34m\u001b[0m\u001b[0m\n\u001b[0m",
      "\u001b[0;31mNameError\u001b[0m: name 'precision' is not defined"
     ]
    }
   ],
   "source": [
    "model.compile(loss = 'categorical_crossentropy', optimizer = 'adam', metrics = ['acc', 'mse', precision, recall])"
   ]
  },
  {
   "cell_type": "code",
   "execution_count": null,
   "metadata": {},
   "outputs": [],
   "source": [
    "evaluation = model.evaluate_generator(validation_generator, verbose=1)"
   ]
  },
  {
   "cell_type": "code",
   "execution_count": null,
   "metadata": {},
   "outputs": [],
   "source": [
    "predictions = model.predict_generator(validation_generator, verbose=1)"
   ]
  },
  {
   "cell_type": "code",
   "execution_count": null,
   "metadata": {},
   "outputs": [],
   "source": [
    "np.argmax(predictions[0:224], axis=1)"
   ]
  },
  {
   "cell_type": "code",
   "execution_count": null,
   "metadata": {},
   "outputs": [],
   "source": [
    "model.metrics_names"
   ]
  },
  {
   "cell_type": "code",
   "execution_count": null,
   "metadata": {},
   "outputs": [],
   "source": [
    "evaluation"
   ]
  },
  {
   "cell_type": "code",
   "execution_count": null,
   "metadata": {},
   "outputs": [],
   "source": [
    "def precision(y_true, y_pred):\n",
    "    \"\"\"Precision metric.\n",
    "    Only computes a batch-wise average of precision.\n",
    "    Computes the precision, a metric for multi-label classification of\n",
    "    how many selected items are relevant.\n",
    "    \"\"\"\n",
    "    true_positives = K.sum(K.round(K.clip(y_true * y_pred, 0, 1)))\n",
    "    predicted_positives = K.sum(K.round(K.clip(y_pred, 0, 1)))\n",
    "    precision = true_positives / (predicted_positives + K.epsilon())\n",
    "    return precision"
   ]
  },
  {
   "cell_type": "code",
   "execution_count": null,
   "metadata": {},
   "outputs": [],
   "source": [
    "def recall(y_true, y_pred):\n",
    "    \"\"\"Recall metric.\n",
    "    Only computes a batch-wise average of recall.\n",
    "    Computes the recall, a metric for multi-label classification of\n",
    "    how many relevant items are selected.\n",
    "    \"\"\"\n",
    "    true_positives = K.sum(K.round(K.clip(y_true * y_pred, 0, 1)))\n",
    "    possible_positives = K.sum(K.round(K.clip(y_true, 0, 1)))\n",
    "    recall = true_positives / (possible_positives + K.epsilon())\n",
    "    return recall"
   ]
  },
  {
   "cell_type": "code",
   "execution_count": null,
   "metadata": {},
   "outputs": [],
   "source": []
  }
 ],
 "metadata": {
  "kernelspec": {
   "display_name": "Python 3",
   "language": "python",
   "name": "python3"
  },
  "language_info": {
   "codemirror_mode": {
    "name": "ipython",
    "version": 3
   },
   "file_extension": ".py",
   "mimetype": "text/x-python",
   "name": "python",
   "nbconvert_exporter": "python",
   "pygments_lexer": "ipython3",
   "version": "3.7.3"
  }
 },
 "nbformat": 4,
 "nbformat_minor": 2
}
